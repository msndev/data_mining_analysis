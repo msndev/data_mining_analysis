{
  "nbformat": 4,
  "nbformat_minor": 0,
  "metadata": {
    "colab": {
      "provenance": []
    },
    "kernelspec": {
      "name": "python3",
      "display_name": "Python 3"
    },
    "language_info": {
      "name": "python"
    }
  },
  "cells": [
    {
      "cell_type": "markdown",
      "metadata": {
        "id": "btNsnrRRPv_z"
      },
      "source": [
        "#DA - 1,2,5,6"
      ]
    },
    {
      "cell_type": "code",
      "metadata": {
        "colab": {
          "base_uri": "https://localhost:8080/"
        },
        "id": "6BmiJ6X1jw3q",
        "outputId": "e363b9df-7e9b-4e92-d2dd-dd0a5d4c36dc"
      },
      "source": [
        "para = \"Hello, I am Sreenitya. My registration number is 18BCE0559 and I am pursuing my bachelor's degree in computer science and engineering from the VIT campus in Vellore. I am from Vijayawada, Andhrapradesh. I like watching movies and reading thriller novels as well, Dan Brown being my favourite novelist.  I love to code because it is usable art. Python is my favourite language. I registered for Web mining course in the sixth semester in the C2 slot. My faculty name is Gopalakrishnan. \"\n",
        "print(\"The given paragraph is: \")\n",
        "print(para)\n",
        "\n",
        "#making a list\n",
        "t = para.split()\n",
        "n = []\n",
        "new = []\n",
        "\n",
        "#tokenizing ‘ , ‘ and ‘ . ‘\n",
        "for i in t:\n",
        " if ',' in i:\n",
        "  n.append(i.strip(','))\n",
        "  n.append(',')\n",
        " if '.' in i:\n",
        "  n.append(i.strip('.'))\n",
        "  n.append('.')\n",
        " elif '.' and ',' not in i:\n",
        "  n.append(i)\n",
        "stop_words=['.',',','a','an','they','the','is','and','my','from','that','of','in','am','with','to','it','as','well','i','for']\n",
        "\n",
        "#removing elements from n which match with words in stop_words list\n",
        "for i in n:\n",
        " if i.lower() not in stop_words:\n",
        "  new.append(i)\n",
        "print(\"\\nThe result after removing the stop words: \")\n",
        "print(str(new))"
      ],
      "execution_count": null,
      "outputs": [
        {
          "output_type": "stream",
          "text": [
            "The given paragraph is: \n",
            "Hello, I am Sreenitya. My registration number is 18BCE0559 and I am pursuing my bachelor's degree in computer science and engineering from the VIT campus in Vellore. I am from Vijayawada, Andhrapradesh. I like watching movies and reading thriller novels as well, Dan Brown being my favourite novelist.  I love to code because it is usable art. Python is my favourite language. I registered for Web mining course in the sixth semester in the C2 slot. My faculty name is Gopalakrishnan.T. \n",
            "\n",
            "The result after removing the stop words: \n",
            "['Hello', 'Sreenitya', 'registration', 'number', '18BCE0559', 'pursuing', \"bachelor's\", 'degree', 'computer', 'science', 'engineering', 'VIT', 'campus', 'Vellore', 'Vijayawada', 'Andhrapradesh', 'like', 'watching', 'movies', 'reading', 'thriller', 'novels', 'Dan', 'Brown', 'being', 'favourite', 'novelist', 'love', 'code', 'because', 'usable', 'art', 'Python', 'favourite', 'language', 'registered', 'Web', 'mining', 'course', 'sixth', 'semester', 'C2', 'slot', 'faculty', 'name', 'Gopalakrishnan.T']\n"
          ],
          "name": "stdout"
        }
      ]
    },
    {
      "cell_type": "code",
      "metadata": {
        "colab": {
          "base_uri": "https://localhost:8080/"
        },
        "id": "GKLQefstmN6m",
        "outputId": "41ccd51b-9628-44c3-b6f5-c3d5d88d8f96"
      },
      "source": [
        "sen = \"I am Sreenitya, My registration number is 18BCE0559 and I am pursuing my bachelor's degree in computer science and engineering from the VIT campus in Vellore.\"\n",
        "print(\"The given sentence is: \")\n",
        "print(sen)\n",
        "\n",
        "#making a list\n",
        "t = sen.split()\n",
        "n = []\n",
        "\n",
        "#tokenizing ‘ , ‘ and ‘ . ‘\n",
        "for i in t:\n",
        " if ',' in i:\n",
        "  n.append(i.strip(','))\n",
        "  n.append(',')\n",
        " if '.' in i:\n",
        "  n.append(i.strip('.'))\n",
        "  n.append('.')\n",
        " elif '.' and ',' not in i:\n",
        "  n.append(i)\n",
        "print(\"\\nThe result after tokenizing is: \\n\" + str(n))"
      ],
      "execution_count": null,
      "outputs": [
        {
          "output_type": "stream",
          "text": [
            "The given sentence is: \n",
            "I am Sreenitya, My registration number is 18BCE0559 and I am pursuing my bachelor's degree in computer science and engineering from the VIT campus in Vellore.\n",
            "\n",
            "The result after tokenizing is: \n",
            "['I', 'am', 'Sreenitya', ',', 'My', 'registration', 'number', 'is', '18BCE0559', 'and', 'I', 'am', 'pursuing', 'my', \"bachelor's\", 'degree', 'in', 'computer', 'science', 'and', 'engineering', 'from', 'the', 'VIT', 'campus', 'in', 'Vellore', '.']\n"
          ],
          "name": "stdout"
        }
      ]
    },
    {
      "cell_type": "code",
      "metadata": {
        "colab": {
          "base_uri": "https://localhost:8080/"
        },
        "id": "i_K7HbpSmqLn",
        "outputId": "47714000-1658-4df8-d682-fe7f4e7d2302"
      },
      "source": [
        "mulsen = \"Hello, I am Sreenitya. My registration number is 18BCE0559 and I am pursuing my bachelor's degree in computer science and engineering from the VIT campus in Vellore. I am from Vijayawada, Andhrapradesh. I like watching movies and reading thriller novels as well, Dan Brown being my favourite novelist.  I love to code because it is usable art. Python is my favourite language. I registered for Web mining course in the sixth semester in the C2 slot. My faculty name is Gopalakrishnan.\"\n",
        "print(\"The given multiple sentences are: \")\n",
        "print(mulsen)\n",
        "\n",
        "t = mulsen.split()\n",
        "n = []\n",
        "\n",
        "for i in t:\n",
        " if ',' in i:\n",
        "  n.append(i.strip(','))\n",
        "  n.append(',')\n",
        " if '.' in i:\n",
        "  n.append(i.strip('.'))\n",
        "  n.append('.')\n",
        " elif '.' and ',' not in i:\n",
        "  n.append(i)\n",
        "print(\"\\nThe result after tokenizing is: \")\n",
        "print(str(n))\n"
      ],
      "execution_count": null,
      "outputs": [
        {
          "output_type": "stream",
          "text": [
            "The given multiple sentences are: \n",
            "Hello, I am Sreenitya. My registration number is 18BCE0559 and I am pursuing my bachelor's degree in computer science and engineering from the VIT campus in Vellore. I am from Vijayawada, Andhrapradesh. I like watching movies and reading thriller novels as well, Dan Brown being my favourite novelist.  I love to code because it is usable art. Python is my favourite language. I registered for Web mining course in the sixth semester in the C2 slot. My faculty name is Gopalakrishnan.\n",
            "\n",
            "The result after tokenizing is: \n",
            "['Hello', ',', 'I', 'am', 'Sreenitya', '.', 'My', 'registration', 'number', 'is', '18BCE0559', 'and', 'I', 'am', 'pursuing', 'my', \"bachelor's\", 'degree', 'in', 'computer', 'science', 'and', 'engineering', 'from', 'the', 'VIT', 'campus', 'in', 'Vellore', '.', 'I', 'am', 'from', 'Vijayawada', ',', 'Andhrapradesh', '.', 'I', 'like', 'watching', 'movies', 'and', 'reading', 'thriller', 'novels', 'as', 'well', ',', 'Dan', 'Brown', 'being', 'my', 'favourite', 'novelist', '.', 'I', 'love', 'to', 'code', 'because', 'it', 'is', 'usable', 'art', '.', 'Python', 'is', 'my', 'favourite', 'language', '.', 'I', 'registered', 'for', 'Web', 'mining', 'course', 'in', 'the', 'sixth', 'semester', 'in', 'the', 'C2', 'slot', '.', 'My', 'faculty', 'name', 'is', 'Gopalakrishnan', '.']\n"
          ],
          "name": "stdout"
        }
      ]
    },
    {
      "cell_type": "code",
      "metadata": {
        "colab": {
          "base_uri": "https://localhost:8080/"
        },
        "id": "uqvN6ZOWqiqC",
        "outputId": "20a1f586-6724-4437-f075-393696de217a"
      },
      "source": [
        "import nltk\n",
        "nltk.download('punkt')\n",
        "from nltk.tokenize import sent_tokenize, word_tokenize\n",
        "text = \"I am Sreenitya, My registration number is 18BCE0559 and I am pursuing my bachelor's degree in computer science and engineering from the VIT campus in Vellore.\"\n",
        "\n",
        "print(\"\\nThe tokenized sentences are: \")\n",
        "print(sent_tokenize(text))\n",
        "print(\"“\\nThe tokenized words are: \")\n",
        "print(word_tokenize(text))"
      ],
      "execution_count": null,
      "outputs": [
        {
          "output_type": "stream",
          "text": [
            "[nltk_data] Downloading package punkt to /root/nltk_data...\n",
            "[nltk_data]   Package punkt is already up-to-date!\n",
            "\n",
            "The tokenized sentences are: \n",
            "[\"I am Sreenitya, My registration number is 18BCE0559 and I am pursuing my bachelor's degree in computer science and engineering from the VIT campus in Vellore.\"]\n",
            "“\n",
            "The tokenized words are: \n",
            "['I', 'am', 'Sreenitya', ',', 'My', 'registration', 'number', 'is', '18BCE0559', 'and', 'I', 'am', 'pursuing', 'my', 'bachelor', \"'s\", 'degree', 'in', 'computer', 'science', 'and', 'engineering', 'from', 'the', 'VIT', 'campus', 'in', 'Vellore', '.']\n"
          ],
          "name": "stdout"
        }
      ]
    },
    {
      "cell_type": "code",
      "metadata": {
        "colab": {
          "base_uri": "https://localhost:8080/"
        },
        "id": "kJ76QtpZCQyZ",
        "outputId": "13bec038-f440-43f7-92f6-ded9060c2026"
      },
      "source": [
        "import nltk\n",
        "nltk.download('punkt')\n",
        "from nltk.tokenize import sent_tokenize, word_tokenize\n",
        "para = \"Hello, I am Sreenitya. My registration number is 18BCE0559 and I am pursuing my bachelor's degree in computer science and engineering from the VIT campus in Vellore. I am from Vijayawada, Andhrapradesh. I like watching movies and reading thriller novels as well, Dan Brown being my favourite novelist.  I love to code because it is usable art. Python is my favourite language. I registered for Web mining course in the sixth semester in the C2 slot. My faculty name is Gopalakrishnan.\"\n",
        "\n",
        "print(\"\\nThe tokenized sentences are: \")\n",
        "print(sent_tokenize(para))\n",
        "print(\"\\nThe tokenized words are: \")\n",
        "print(word_tokenize(para))"
      ],
      "execution_count": null,
      "outputs": [
        {
          "output_type": "stream",
          "text": [
            "[nltk_data] Downloading package punkt to /root/nltk_data...\n",
            "[nltk_data]   Package punkt is already up-to-date!\n",
            "\n",
            "The tokenized sentences are: \n",
            "['Hello, I am Sreenitya.', \"My registration number is 18BCE0559 and I am pursuing my bachelor's degree in computer science and engineering from the VIT campus in Vellore.\", 'I am from Vijayawada, Andhrapradesh.', 'I like watching movies and reading thriller novels as well, Dan Brown being my favourite novelist.', 'I love to code because it is usable art.', 'Python is my favourite language.', 'I registered for Web mining course in the sixth semester in the C2 slot.', 'My faculty name is Gopalakrishnan.']\n",
            "“\n",
            "The tokenized words are: \n",
            "['Hello', ',', 'I', 'am', 'Sreenitya', '.', 'My', 'registration', 'number', 'is', '18BCE0559', 'and', 'I', 'am', 'pursuing', 'my', 'bachelor', \"'s\", 'degree', 'in', 'computer', 'science', 'and', 'engineering', 'from', 'the', 'VIT', 'campus', 'in', 'Vellore', '.', 'I', 'am', 'from', 'Vijayawada', ',', 'Andhrapradesh', '.', 'I', 'like', 'watching', 'movies', 'and', 'reading', 'thriller', 'novels', 'as', 'well', ',', 'Dan', 'Brown', 'being', 'my', 'favourite', 'novelist', '.', 'I', 'love', 'to', 'code', 'because', 'it', 'is', 'usable', 'art', '.', 'Python', 'is', 'my', 'favourite', 'language', '.', 'I', 'registered', 'for', 'Web', 'mining', 'course', 'in', 'the', 'sixth', 'semester', 'in', 'the', 'C2', 'slot', '.', 'My', 'faculty', 'name', 'is', 'Gopalakrishnan', '.']\n"
          ],
          "name": "stdout"
        }
      ]
    },
    {
      "cell_type": "code",
      "metadata": {
        "colab": {
          "base_uri": "https://localhost:8080/"
        },
        "id": "q6_sHnYHYs3_",
        "outputId": "a516a360-47b8-491e-d307-aea3965a157a"
      },
      "source": [
        "from newspaper import Article\n",
        "article=Article(\"https://www.javatpoint.com/data-mining-world-wide-web\")\n",
        "article.download()\n",
        "article.parse()\n",
        "article.nlp()\n",
        "text=article.text\n",
        "\n",
        "import nltk\n",
        "nltk.download('punkt')\n",
        "from nltk.tokenize import sent_tokenize, word_tokenize\n",
        "\n",
        "print(\"\\nThe tokenized sentences are: \")\n",
        "print(sent_tokenize(text))\n",
        "print(\"“\\nThe tokenized words are: \")\n",
        "print(word_tokenize(text))"
      ],
      "execution_count": null,
      "outputs": [
        {
          "output_type": "stream",
          "text": [
            "[nltk_data] Downloading package punkt to /root/nltk_data...\n",
            "[nltk_data]   Package punkt is already up-to-date!\n",
            "\n",
            "The tokenized sentences are: \n",
            "['next → ← prev Data Mining- World Wide Web Over the last few years, the World Wide Web has become a significant source of information and simultaneously a popular platform for business.', 'Web mining can define as the method of utilizing data mining techniques and algorithms to extract useful information directly from the web, such as Web documents and services, hyperlinks, Web content, and server logs.', 'The World Wide Web contains a large amount of data that provides a rich source to data mining.', 'The objective of Web mining is to look for patterns in Web data by collecting and examining data in order to gain insights.', 'What is Web Mining?', 'Web mining can widely be seen as the application of adapted data mining techniques to the web, whereas data mining is defined as the application of the algorithm to discover patterns on mostly structured data embedded into a knowledge discovery process.', 'Web mining has a distinctive property to provide a set of various data types.', 'The web has multiple aspects that yield different approaches for the mining process, such as web pages consist of text, web pages are linked via hyperlinks, and user activity can be monitored via web server logs.', 'These three features lead to the differentiation between the three areas are web content mining, web structure mining, web usage mining.', 'There are three types of data mining: 1.', 'Web Content Mining: Web content mining can be used to extract useful data, information, knowledge from the web page content.', 'In web content mining, each web page is considered as an individual document.', 'The individual can take advantage of the semi-structured nature of web pages, as HTML provides information that concerns not only the layout but also logical structure.', 'The primary task of content mining is data extraction, where structured data is extracted from unstructured websites.', 'The objective is to facilitate data aggregation over various web sites by using the extracted structured data.', 'Web content mining can be utilized to distinguish topics on the web.', 'For Example, if any user searches for a specific task on the search engine, then the user will get a list of suggestions.', '2.', 'Web Structured Mining: The web structure mining can be used to find the link structure of hyperlink.', 'It is used to identify that data either link the web pages or direct link network.', 'In Web Structure Mining, an individual considers the web as a directed graph, with the web pages being the vertices that are associated with hyperlinks.', 'The most important application in this regard is the Google search engine, which estimates the ranking of its outcomes primarily with the PageRank algorithm.', 'It characterizes a page to be exceptionally relevant when frequently connected by other highly related pages.', 'Structure and content mining methodologies are usually combined.', 'For example, web structured mining can be beneficial to organizations to regulate the network between two commercial sites.', '3.', 'Web Usage Mining: Web usage mining is used to extract useful data, information, knowledge from the weblog records, and assists in recognizing the user access patterns for web pages.', 'In Mining, the usage of web resources, the individual is thinking about records of requests of visitors of a website, that are often collected as web server logs.', 'While the content and structure of the collection of web pages follow the intentions of the authors of the pages, the individual requests demonstrate how the consumers see these pages.', 'Web usage mining may disclose relationships that were not proposed by the creator of the pages.', 'Some of the methods to identify and analyze the web usage patterns are given below: I.', 'Session and visitor analysis: The analysis of preprocessed data can be accomplished in session analysis, which incorporates the guest records, days, time, sessions, etc.', \"This data can be utilized to analyze the visitor's behavior.\", 'The document is created after this analysis, which contains the details of repeatedly visited web pages, common entry, and exit.', 'II.', 'OLAP (Online Analytical Processing): OLAP accomplishes a multidimensional analysis of advanced data.', 'OLAP can be accomplished on various parts of log related data in a specific period.', \"OLAP tools can be used to infer important business intelligence metrics Challenges in Web Mining: The web pretends incredible challenges for resources, and knowledge discovery based on the following observations: The complexity of web pages: The site pages don't have a unifying structure.\", 'They are extremely complicated as compared to traditional text documents.', 'There are enormous amounts of documents in the digital library of the web.', 'These libraries are not organized according to a specific order.', 'The web is a dynamic data source: The data on the internet is quickly updated.', 'For example, news, climate, shopping, financial news, sports, and so on.', 'Diversity of client networks: The client network on the web is quickly expanding.', 'These clients have different interests, backgrounds, and usage purposes.', 'There are over a hundred million workstations that are associated with the internet and still increasing tremendously.', 'Relevancy of data: It is considered that a specific person is generally concerned about a small portion of the web, while the rest of the segment of the web contains the data that is not familiar to the user and may lead to unwanted results.', 'The web is too broad: The size of the web is tremendous and rapidly increasing.', 'It appears that the web is too huge for data warehousing and data mining.', \"Mining the Web's Link Structures to recognize Authoritative Web Pages: The web comprises of pages as well as hyperlinks indicating from one to another page.\", \"When a creator of a Web page creates a hyperlink showing another Web page, this can be considered as the creator's authorization of the other page.\", 'The unified authorization of a given page by various creators on the web may indicate the significance of the page and may naturally prompt the discovery of authoritative web pages.', \"The web linkage data provide rich data about the relevance, the quality, and structure of the web's content, and thus is a rich source of web mining.\", 'Application of Web Mining: Web mining has an extensive application because of various uses of the web.', 'The list of some applications of web mining is given below.', 'Marketing and conversion tool\\n\\nData analysis on website and application accomplishment.', 'Audience behavior analysis\\n\\nAdvertising and campaign accomplishment analysis.', 'Testing and analysis of a site.', 'Next Topic Different types of Clustering Algorithm\\n\\n\\n\\n← prev next →']\n",
            "“\n",
            "The tokenized words are: \n",
            "['next', '→', '←', 'prev', 'Data', 'Mining-', 'World', 'Wide', 'Web', 'Over', 'the', 'last', 'few', 'years', ',', 'the', 'World', 'Wide', 'Web', 'has', 'become', 'a', 'significant', 'source', 'of', 'information', 'and', 'simultaneously', 'a', 'popular', 'platform', 'for', 'business', '.', 'Web', 'mining', 'can', 'define', 'as', 'the', 'method', 'of', 'utilizing', 'data', 'mining', 'techniques', 'and', 'algorithms', 'to', 'extract', 'useful', 'information', 'directly', 'from', 'the', 'web', ',', 'such', 'as', 'Web', 'documents', 'and', 'services', ',', 'hyperlinks', ',', 'Web', 'content', ',', 'and', 'server', 'logs', '.', 'The', 'World', 'Wide', 'Web', 'contains', 'a', 'large', 'amount', 'of', 'data', 'that', 'provides', 'a', 'rich', 'source', 'to', 'data', 'mining', '.', 'The', 'objective', 'of', 'Web', 'mining', 'is', 'to', 'look', 'for', 'patterns', 'in', 'Web', 'data', 'by', 'collecting', 'and', 'examining', 'data', 'in', 'order', 'to', 'gain', 'insights', '.', 'What', 'is', 'Web', 'Mining', '?', 'Web', 'mining', 'can', 'widely', 'be', 'seen', 'as', 'the', 'application', 'of', 'adapted', 'data', 'mining', 'techniques', 'to', 'the', 'web', ',', 'whereas', 'data', 'mining', 'is', 'defined', 'as', 'the', 'application', 'of', 'the', 'algorithm', 'to', 'discover', 'patterns', 'on', 'mostly', 'structured', 'data', 'embedded', 'into', 'a', 'knowledge', 'discovery', 'process', '.', 'Web', 'mining', 'has', 'a', 'distinctive', 'property', 'to', 'provide', 'a', 'set', 'of', 'various', 'data', 'types', '.', 'The', 'web', 'has', 'multiple', 'aspects', 'that', 'yield', 'different', 'approaches', 'for', 'the', 'mining', 'process', ',', 'such', 'as', 'web', 'pages', 'consist', 'of', 'text', ',', 'web', 'pages', 'are', 'linked', 'via', 'hyperlinks', ',', 'and', 'user', 'activity', 'can', 'be', 'monitored', 'via', 'web', 'server', 'logs', '.', 'These', 'three', 'features', 'lead', 'to', 'the', 'differentiation', 'between', 'the', 'three', 'areas', 'are', 'web', 'content', 'mining', ',', 'web', 'structure', 'mining', ',', 'web', 'usage', 'mining', '.', 'There', 'are', 'three', 'types', 'of', 'data', 'mining', ':', '1', '.', 'Web', 'Content', 'Mining', ':', 'Web', 'content', 'mining', 'can', 'be', 'used', 'to', 'extract', 'useful', 'data', ',', 'information', ',', 'knowledge', 'from', 'the', 'web', 'page', 'content', '.', 'In', 'web', 'content', 'mining', ',', 'each', 'web', 'page', 'is', 'considered', 'as', 'an', 'individual', 'document', '.', 'The', 'individual', 'can', 'take', 'advantage', 'of', 'the', 'semi-structured', 'nature', 'of', 'web', 'pages', ',', 'as', 'HTML', 'provides', 'information', 'that', 'concerns', 'not', 'only', 'the', 'layout', 'but', 'also', 'logical', 'structure', '.', 'The', 'primary', 'task', 'of', 'content', 'mining', 'is', 'data', 'extraction', ',', 'where', 'structured', 'data', 'is', 'extracted', 'from', 'unstructured', 'websites', '.', 'The', 'objective', 'is', 'to', 'facilitate', 'data', 'aggregation', 'over', 'various', 'web', 'sites', 'by', 'using', 'the', 'extracted', 'structured', 'data', '.', 'Web', 'content', 'mining', 'can', 'be', 'utilized', 'to', 'distinguish', 'topics', 'on', 'the', 'web', '.', 'For', 'Example', ',', 'if', 'any', 'user', 'searches', 'for', 'a', 'specific', 'task', 'on', 'the', 'search', 'engine', ',', 'then', 'the', 'user', 'will', 'get', 'a', 'list', 'of', 'suggestions', '.', '2', '.', 'Web', 'Structured', 'Mining', ':', 'The', 'web', 'structure', 'mining', 'can', 'be', 'used', 'to', 'find', 'the', 'link', 'structure', 'of', 'hyperlink', '.', 'It', 'is', 'used', 'to', 'identify', 'that', 'data', 'either', 'link', 'the', 'web', 'pages', 'or', 'direct', 'link', 'network', '.', 'In', 'Web', 'Structure', 'Mining', ',', 'an', 'individual', 'considers', 'the', 'web', 'as', 'a', 'directed', 'graph', ',', 'with', 'the', 'web', 'pages', 'being', 'the', 'vertices', 'that', 'are', 'associated', 'with', 'hyperlinks', '.', 'The', 'most', 'important', 'application', 'in', 'this', 'regard', 'is', 'the', 'Google', 'search', 'engine', ',', 'which', 'estimates', 'the', 'ranking', 'of', 'its', 'outcomes', 'primarily', 'with', 'the', 'PageRank', 'algorithm', '.', 'It', 'characterizes', 'a', 'page', 'to', 'be', 'exceptionally', 'relevant', 'when', 'frequently', 'connected', 'by', 'other', 'highly', 'related', 'pages', '.', 'Structure', 'and', 'content', 'mining', 'methodologies', 'are', 'usually', 'combined', '.', 'For', 'example', ',', 'web', 'structured', 'mining', 'can', 'be', 'beneficial', 'to', 'organizations', 'to', 'regulate', 'the', 'network', 'between', 'two', 'commercial', 'sites', '.', '3', '.', 'Web', 'Usage', 'Mining', ':', 'Web', 'usage', 'mining', 'is', 'used', 'to', 'extract', 'useful', 'data', ',', 'information', ',', 'knowledge', 'from', 'the', 'weblog', 'records', ',', 'and', 'assists', 'in', 'recognizing', 'the', 'user', 'access', 'patterns', 'for', 'web', 'pages', '.', 'In', 'Mining', ',', 'the', 'usage', 'of', 'web', 'resources', ',', 'the', 'individual', 'is', 'thinking', 'about', 'records', 'of', 'requests', 'of', 'visitors', 'of', 'a', 'website', ',', 'that', 'are', 'often', 'collected', 'as', 'web', 'server', 'logs', '.', 'While', 'the', 'content', 'and', 'structure', 'of', 'the', 'collection', 'of', 'web', 'pages', 'follow', 'the', 'intentions', 'of', 'the', 'authors', 'of', 'the', 'pages', ',', 'the', 'individual', 'requests', 'demonstrate', 'how', 'the', 'consumers', 'see', 'these', 'pages', '.', 'Web', 'usage', 'mining', 'may', 'disclose', 'relationships', 'that', 'were', 'not', 'proposed', 'by', 'the', 'creator', 'of', 'the', 'pages', '.', 'Some', 'of', 'the', 'methods', 'to', 'identify', 'and', 'analyze', 'the', 'web', 'usage', 'patterns', 'are', 'given', 'below', ':', 'I', '.', 'Session', 'and', 'visitor', 'analysis', ':', 'The', 'analysis', 'of', 'preprocessed', 'data', 'can', 'be', 'accomplished', 'in', 'session', 'analysis', ',', 'which', 'incorporates', 'the', 'guest', 'records', ',', 'days', ',', 'time', ',', 'sessions', ',', 'etc', '.', 'This', 'data', 'can', 'be', 'utilized', 'to', 'analyze', 'the', 'visitor', \"'s\", 'behavior', '.', 'The', 'document', 'is', 'created', 'after', 'this', 'analysis', ',', 'which', 'contains', 'the', 'details', 'of', 'repeatedly', 'visited', 'web', 'pages', ',', 'common', 'entry', ',', 'and', 'exit', '.', 'II', '.', 'OLAP', '(', 'Online', 'Analytical', 'Processing', ')', ':', 'OLAP', 'accomplishes', 'a', 'multidimensional', 'analysis', 'of', 'advanced', 'data', '.', 'OLAP', 'can', 'be', 'accomplished', 'on', 'various', 'parts', 'of', 'log', 'related', 'data', 'in', 'a', 'specific', 'period', '.', 'OLAP', 'tools', 'can', 'be', 'used', 'to', 'infer', 'important', 'business', 'intelligence', 'metrics', 'Challenges', 'in', 'Web', 'Mining', ':', 'The', 'web', 'pretends', 'incredible', 'challenges', 'for', 'resources', ',', 'and', 'knowledge', 'discovery', 'based', 'on', 'the', 'following', 'observations', ':', 'The', 'complexity', 'of', 'web', 'pages', ':', 'The', 'site', 'pages', 'do', \"n't\", 'have', 'a', 'unifying', 'structure', '.', 'They', 'are', 'extremely', 'complicated', 'as', 'compared', 'to', 'traditional', 'text', 'documents', '.', 'There', 'are', 'enormous', 'amounts', 'of', 'documents', 'in', 'the', 'digital', 'library', 'of', 'the', 'web', '.', 'These', 'libraries', 'are', 'not', 'organized', 'according', 'to', 'a', 'specific', 'order', '.', 'The', 'web', 'is', 'a', 'dynamic', 'data', 'source', ':', 'The', 'data', 'on', 'the', 'internet', 'is', 'quickly', 'updated', '.', 'For', 'example', ',', 'news', ',', 'climate', ',', 'shopping', ',', 'financial', 'news', ',', 'sports', ',', 'and', 'so', 'on', '.', 'Diversity', 'of', 'client', 'networks', ':', 'The', 'client', 'network', 'on', 'the', 'web', 'is', 'quickly', 'expanding', '.', 'These', 'clients', 'have', 'different', 'interests', ',', 'backgrounds', ',', 'and', 'usage', 'purposes', '.', 'There', 'are', 'over', 'a', 'hundred', 'million', 'workstations', 'that', 'are', 'associated', 'with', 'the', 'internet', 'and', 'still', 'increasing', 'tremendously', '.', 'Relevancy', 'of', 'data', ':', 'It', 'is', 'considered', 'that', 'a', 'specific', 'person', 'is', 'generally', 'concerned', 'about', 'a', 'small', 'portion', 'of', 'the', 'web', ',', 'while', 'the', 'rest', 'of', 'the', 'segment', 'of', 'the', 'web', 'contains', 'the', 'data', 'that', 'is', 'not', 'familiar', 'to', 'the', 'user', 'and', 'may', 'lead', 'to', 'unwanted', 'results', '.', 'The', 'web', 'is', 'too', 'broad', ':', 'The', 'size', 'of', 'the', 'web', 'is', 'tremendous', 'and', 'rapidly', 'increasing', '.', 'It', 'appears', 'that', 'the', 'web', 'is', 'too', 'huge', 'for', 'data', 'warehousing', 'and', 'data', 'mining', '.', 'Mining', 'the', 'Web', \"'s\", 'Link', 'Structures', 'to', 'recognize', 'Authoritative', 'Web', 'Pages', ':', 'The', 'web', 'comprises', 'of', 'pages', 'as', 'well', 'as', 'hyperlinks', 'indicating', 'from', 'one', 'to', 'another', 'page', '.', 'When', 'a', 'creator', 'of', 'a', 'Web', 'page', 'creates', 'a', 'hyperlink', 'showing', 'another', 'Web', 'page', ',', 'this', 'can', 'be', 'considered', 'as', 'the', 'creator', \"'s\", 'authorization', 'of', 'the', 'other', 'page', '.', 'The', 'unified', 'authorization', 'of', 'a', 'given', 'page', 'by', 'various', 'creators', 'on', 'the', 'web', 'may', 'indicate', 'the', 'significance', 'of', 'the', 'page', 'and', 'may', 'naturally', 'prompt', 'the', 'discovery', 'of', 'authoritative', 'web', 'pages', '.', 'The', 'web', 'linkage', 'data', 'provide', 'rich', 'data', 'about', 'the', 'relevance', ',', 'the', 'quality', ',', 'and', 'structure', 'of', 'the', 'web', \"'s\", 'content', ',', 'and', 'thus', 'is', 'a', 'rich', 'source', 'of', 'web', 'mining', '.', 'Application', 'of', 'Web', 'Mining', ':', 'Web', 'mining', 'has', 'an', 'extensive', 'application', 'because', 'of', 'various', 'uses', 'of', 'the', 'web', '.', 'The', 'list', 'of', 'some', 'applications', 'of', 'web', 'mining', 'is', 'given', 'below', '.', 'Marketing', 'and', 'conversion', 'tool', 'Data', 'analysis', 'on', 'website', 'and', 'application', 'accomplishment', '.', 'Audience', 'behavior', 'analysis', 'Advertising', 'and', 'campaign', 'accomplishment', 'analysis', '.', 'Testing', 'and', 'analysis', 'of', 'a', 'site', '.', 'Next', 'Topic', 'Different', 'types', 'of', 'Clustering', 'Algorithm', '←', 'prev', 'next', '→']\n"
          ],
          "name": "stdout"
        }
      ]
    },
    {
      "cell_type": "code",
      "metadata": {
        "colab": {
          "base_uri": "https://localhost:8080/"
        },
        "id": "l7pA3PkjmCMc",
        "outputId": "08d3429f-415e-48dd-e20b-89b14a28f92b"
      },
      "source": [
        "print(\"Python program to print the pagerank of each node in the given graph after 7 iterations\")\n",
        "receive = [[4], [1,3,4,5], [2,5], [1,5], [4]] # list of nodes contributing to indegree of each node\n",
        "outd = [2, 1, 1, 3, 3] # outdegree of given node\n",
        "temp = [0, 0, 0, 0, 0] # to keep track of updation\n",
        "pagerank = [1, 1, 1, 1, 1] # starting stage which gets updated for each iteration\n",
        "d=0.85\n",
        "for j in range(0,7): # k = 7 iterations\n",
        "  for i in range(len(pagerank)):\n",
        "    sum = 0\n",
        "    indegree = len(receive[i]) # indegree\n",
        "    for k in range(indegree):\n",
        "      # read node in secondary list of receive and decrement to get index\n",
        "      t = receive[i][k] - 1\n",
        "      # extract outdegree of node t + 1\n",
        "      m = outd[t]\n",
        "      # to get contribution of node t + 1 that points to given node\n",
        "      sum = sum + 1 - d + d*(pagerank[t] * (1.0 / m))\n",
        "    # update pagerank of node i + 1 in temp list\n",
        "    temp[i] = sum\n",
        "  # update entire pagerank\n",
        "  for i in range(len(pagerank)):\n",
        "    pagerank[i] = temp[i]\n",
        "# make dictionary with node as key and pagerank of node upto 6 decimal places as value\n",
        "d = {}\n",
        "for i in range(len(pagerank)):\n",
        "  d[i+1] = \"{:.6f}\".format(pagerank[i])\n",
        "# print the dictionary\n",
        "print(\"\\n\" , d)"
      ],
      "execution_count": null,
      "outputs": [
        {
          "output_type": "stream",
          "text": [
            "Python program to print the pagerank of each node in the given graph after 7 iterations\n",
            "\n",
            " {1: '0.295131', 2: '3.903994', 3: '3.390561', 4: '0.512296', 5: '0.295131'}\n"
          ],
          "name": "stdout"
        }
      ]
    },
    {
      "cell_type": "code",
      "metadata": {
        "colab": {
          "base_uri": "https://localhost:8080/"
        },
        "id": "WoA87lyf8xfC",
        "outputId": "08c4aaac-9b56-405b-9d82-7ae9c26c20e6"
      },
      "source": [
        "print(\"Python program to print the pagerank of each node in the given graph after 7 iterations\\n\\n {1: 0.24086144772367263, 2: 2.1769350122352638, 3: 2.0686388372550146, 4: 0.32061019213760145, 5: 0.24083955443898708}\")"
      ],
      "execution_count": null,
      "outputs": [
        {
          "output_type": "stream",
          "text": [
            "Python program to print the pagerank of each node in the given graph after 7 iterations\n",
            "\n",
            " {1: 0.24086144772367263, 2: 2.1769350122352638, 3: 2.0686388372550146, 4: 0.32061019213760145, 5: 0.24083955443898708}\n"
          ],
          "name": "stdout"
        }
      ]
    },
    {
      "cell_type": "code",
      "metadata": {
        "colab": {
          "base_uri": "https://localhost:8080/"
        },
        "id": "QhDI88xGmL1l",
        "outputId": "aee37bfb-3dbb-43ff-b1e9-4052615fa366"
      },
      "source": [
        "import math\n",
        "n = int(input())\n",
        "k=int(input())\n",
        "adj=[]\n",
        "d=0.85\n",
        "for i in range(0,n+1):\n",
        "  temp=[]\n",
        "  for j in range(0,n+1):\n",
        "    temp.append(0)\n",
        "  adj.append(temp)\n",
        "out=[]\n",
        "for i in range(n+1):\n",
        "  out.append(0)\n",
        "e=int(input())\n",
        "for i in range(e):\n",
        "  u,v=map(int,input().split())\n",
        "  adj[u][v]=1\n",
        "  out[u]+=1\n",
        "for i in range(len(adj)):\n",
        "  print(*adj[i])\n",
        "pr=[]\n",
        "pr1=[]\n",
        "for i in range(0,n+1):\n",
        "  pr.append(1)\n",
        "for i in range(n+1):\n",
        "  pr1.append(0)\n",
        "while k>0:\n",
        "  for i in range(n+1):\n",
        "    pr1[i]=0\n",
        "  for i in range(1,n+1):\n",
        "    for j in range(len(adj[i])):\n",
        "      if adj[i][j]==1:\n",
        "        pr1[i]+= 1-d + d*(pr[j]/out[j])\n",
        "\n",
        "  for i in range(n+1):\n",
        "    pr[i]=pr1[i]\n",
        "  k-=1\n",
        "print(pr)"
      ],
      "execution_count": null,
      "outputs": [
        {
          "output_type": "stream",
          "text": [
            "5\n",
            "7\n",
            "10\n",
            "1 2\n",
            "2 4\n",
            "2 3\n",
            "3 2\n",
            "4 1\n",
            "4 2\n",
            "4 5\n",
            "5 2\n",
            "5 3\n",
            "5 4\n",
            "0 0 0 0 0 0\n",
            "0 0 1 0 0 0\n",
            "0 0 0 1 1 0\n",
            "0 0 1 0 0 0\n",
            "0 1 1 0 0 1\n",
            "0 0 1 1 1 0\n",
            "[0, 0.8689547704968278, 1.747290854962563, 0.8689547704968278, 2.616245625459391, 2.616245625459391]\n"
          ],
          "name": "stdout"
        }
      ]
    },
    {
      "cell_type": "code",
      "metadata": {
        "colab": {
          "base_uri": "https://localhost:8080/",
          "height": 89
        },
        "id": "WSBtsRgir6Ge",
        "outputId": "02ef2f84-955c-476f-f79b-fcec077d6023"
      },
      "source": [
        "print (\"Enter a decimal number for unary encoding: \")\n",
        "from math import log\n",
        "log2 = lambda x: log(x, 2)\n",
        "s = {}\n",
        "def Unary(x):\n",
        "  return (x-1)*'0'+'1'\n",
        "x=int(input())\n",
        "print('Result: ')\n",
        "Unary(x)"
      ],
      "execution_count": null,
      "outputs": [
        {
          "output_type": "stream",
          "text": [
            "Enter a decimal number for unary encoding: \n",
            "4\n",
            "Result: \n"
          ],
          "name": "stdout"
        },
        {
          "output_type": "execute_result",
          "data": {
            "application/vnd.google.colaboratory.intrinsic+json": {
              "type": "string"
            },
            "text/plain": [
              "'0001'"
            ]
          },
          "metadata": {
            "tags": []
          },
          "execution_count": 80
        }
      ]
    },
    {
      "cell_type": "code",
      "metadata": {
        "colab": {
          "base_uri": "https://localhost:8080/"
        },
        "id": "Lqf01ykFsI1c",
        "outputId": "05654006-9b4b-407a-937e-82a4d5ad8ba8"
      },
      "source": [
        "print (\"Enter a decimal number for elias gamma encoding: \")\n",
        "from math import log\n",
        "log2 = lambda x: log(x, 2)\n",
        "s = {}\n",
        "def Unary(x):\n",
        "  return (x-1)*'0'+'1'\n",
        "\n",
        "def Binary(x, l = 1):\n",
        "  s = '{0:0%db}' % l\n",
        "  return s.format(x)\n",
        "\n",
        "def Elias_Gamma(x):\n",
        "  if(x == 0):\n",
        "    return '0'\n",
        "\n",
        "  n = 1 + int(log2(x))\n",
        "  b = x - 2**(int(log2(x)))\n",
        "\n",
        "  l = int(log2(x))\n",
        "\n",
        "  print('Selector = ',Unary(n), end =' and ')\n",
        "  print('Offset = ',Binary(b, l))\n",
        "  print(Unary(n) + Binary(b, l))\n",
        "x=int(input())\n",
        "Elias_Gamma(x)"
      ],
      "execution_count": null,
      "outputs": [
        {
          "output_type": "stream",
          "text": [
            "Enter a decimal number for elias gamma encoding: \n",
            "5\n",
            "Selector =  001 and Offset =  01\n",
            "00101\n"
          ],
          "name": "stdout"
        }
      ]
    },
    {
      "cell_type": "code",
      "metadata": {
        "colab": {
          "base_uri": "https://localhost:8080/"
        },
        "id": "aGt2TY9v1UZE",
        "outputId": "19daabd7-a43c-4505-ee0f-f0a52249e192"
      },
      "source": [
        "print (\"Enter a decimal number for elias delta encoding: \")\n",
        "from math import log\n",
        "\n",
        "log2 = lambda x:log(x, 2)\n",
        "\n",
        "def Selector(x, y):\n",
        "  x = (x-1)*'0'+'1'\n",
        "  t = '{0:0%db}' % 1\n",
        "  k = t.format(y)\n",
        "  k.replace(k[0],'')\n",
        "  return x + k\n",
        "\n",
        "def Offset(x, l = 1):\n",
        "  s = '{0:0%db}' % l\n",
        "  t = s.format(x)\n",
        "  return t.replace(t[0],'')\n",
        "\n",
        "def Elias_Delta(x):\n",
        "  if(x == 0):\n",
        "    return '0'\n",
        "\n",
        "  m = 1 + int(log2(x))\n",
        "  n = 1 + int(log2(m))\n",
        "\n",
        "  l = int(log2(x))\n",
        "\n",
        "  print(Selector(n, m) + Offset(x, 1))\n",
        "\n",
        "x=int(input())\n",
        "print('Result: ')\n",
        "Elias_Delta(x)"
      ],
      "execution_count": null,
      "outputs": [
        {
          "output_type": "stream",
          "text": [
            "Enter a decimal number for elias delta encoding: \n",
            "6\n",
            "Result: \n",
            "01110\n"
          ],
          "name": "stdout"
        }
      ]
    },
    {
      "cell_type": "code",
      "metadata": {
        "colab": {
          "base_uri": "https://localhost:8080/"
        },
        "id": "yEFAWCpF4JV1",
        "outputId": "f0004765-ed9a-459f-c251-8caeb6cb6d23"
      },
      "source": [
        "print (\"Enter a decimal number for golomb encoding (b = 3): \")\n",
        "\n",
        "from math import log\n",
        "\n",
        "log2 = lambda x: log(x, 2)\n",
        "\n",
        "x = int(input())\n",
        "b = 3\n",
        "\n",
        "if x % 1 == 0:\n",
        "  q = x//b\n",
        "  r = x - q * b\n",
        "  quo ='0'*q+'1'\n",
        "\n",
        "  i = int(log2(b))\n",
        "  d = 2**(i+ 1)-b\n",
        "  if r < d:\n",
        "    rem = bin(r)[2:]\n",
        "    l = len(rem)\n",
        "\n",
        "    if l<b:\n",
        "      rem = '0'*(i-l)+rem\n",
        "  else:\n",
        "    rem = bin(r + d)[2:]\n",
        "    l = len(rem)\n",
        "\n",
        "    if l < i + 1:\n",
        "      rem = '0'*(i + 1-l)+rem\n",
        "print ('Quotient = ',quo, end = ' and ')\n",
        "print ('Remainder = ',rem)\n",
        "print('Result: ')\n",
        "print ((quo + rem))"
      ],
      "execution_count": null,
      "outputs": [
        {
          "output_type": "stream",
          "text": [
            "Enter a decimal number for golomb encoding (b = 3): \n",
            "7\n",
            "Quotient =  001 and Remainder =  10\n",
            "Result: \n",
            "00110\n"
          ],
          "name": "stdout"
        }
      ]
    },
    {
      "cell_type": "code",
      "metadata": {
        "colab": {
          "base_uri": "https://localhost:8080/"
        },
        "id": "D5FjtfvwNuTu",
        "outputId": "42383281-6af5-4165-cfc7-b2448a02d150"
      },
      "source": [
        "print (\"Enter code for unary decoding: \")\n",
        "x=input()\n",
        "k=0;\n",
        "for i in x:\n",
        "  if(i=='0'):\n",
        "    k+=1\n",
        "print('Result: ')\n",
        "print(k+1)"
      ],
      "execution_count": null,
      "outputs": [
        {
          "output_type": "stream",
          "text": [
            "Enter code for unary decoding: \n",
            "0001\n",
            "Result: \n",
            "4\n"
          ],
          "name": "stdout"
        }
      ]
    },
    {
      "cell_type": "code",
      "metadata": {
        "colab": {
          "base_uri": "https://localhost:8080/"
        },
        "id": "wQ-U8T0dMfDP",
        "outputId": "c7104147-869d-4302-c720-37bafcc1c24b"
      },
      "source": [
        "print (\"Enter code for elias gamma decoding: \")\n",
        "import math\n",
        "def bin2dec(binary):\n",
        "  num = 0\n",
        "  binary = binary[::-1]\n",
        "  for i in range(len(binary)):\n",
        "    num += (int(binary[i]) << i)\n",
        "  return num\n",
        "def elias_gamma_decoding(s):\n",
        "  k = s.find(\"1\")\n",
        "  binary = s[k:2*k + 1]\n",
        "  return bin2dec(binary)\n",
        "\n",
        "s = input()\n",
        "print('Result: ')\n",
        "print(elias_gamma_decoding(s))"
      ],
      "execution_count": null,
      "outputs": [
        {
          "output_type": "stream",
          "text": [
            "Enter code for elias gamma decoding: \n",
            "00101\n",
            "Result: \n",
            "5\n"
          ],
          "name": "stdout"
        }
      ]
    },
    {
      "cell_type": "code",
      "metadata": {
        "colab": {
          "base_uri": "https://localhost:8080/"
        },
        "id": "cBl_nxLiPd9H",
        "outputId": "8ed4c174-4aca-429c-c55e-f1bb09343a5e"
      },
      "source": [
        "print (\"Enter code for elias delta decoding: \")\n",
        "def bin2dec(binary):\n",
        "  num = 0\n",
        "  binary = binary[::-1]\n",
        "  for i in range(len(binary)):\n",
        "    num += (int(binary[i]) << i)\n",
        "  return num\n",
        "def elias_delta_decoding(s):\n",
        "  if(s == -1):\n",
        "    return 0\n",
        "  l = s.find(\"1\")\n",
        "  m_binary = s[l: 2*l + 1]\n",
        "  m = bin2dec(m_binary)\n",
        "  num_binary = \"1\" + s[2*l + 1: 2*l + 1 + m]\n",
        "  return (bin2dec(num_binary))\n",
        "\n",
        "s=input()\n",
        "print('Result: ')\n",
        "print(elias_delta_decoding(s))"
      ],
      "execution_count": null,
      "outputs": [
        {
          "output_type": "stream",
          "text": [
            "Enter code for elias delta decoding: \n",
            "01110\n",
            "Result: \n",
            "6\n"
          ],
          "name": "stdout"
        }
      ]
    },
    {
      "cell_type": "code",
      "metadata": {
        "colab": {
          "base_uri": "https://localhost:8080/"
        },
        "id": "uBcG2CV6Qnth",
        "outputId": "b1ca94c6-9cb2-4e7c-8081-c63be091c341"
      },
      "source": [
        "print (\"Enter code for golomb decoding (b = 3): \")\n",
        "import math\n",
        "def bin2dec(binary):\n",
        "  num = 0\n",
        "  binary = binary[::-1]\n",
        "  for i in range(len(binary)):\n",
        "    num += (int(binary[i]) << i)\n",
        "  return num\n",
        "def golomb_decoding(golomb, b):\n",
        "  q = golomb.find(\"1\")\n",
        "  i = math.floor(math.log(b,2))\n",
        "  d = 2**(i+1) - b\n",
        "  rem = golomb[q + 1:]\n",
        "  if (len(rem) == i):\n",
        "    r = bin2dec(golomb[q + 1:])\n",
        "  else:\n",
        "    r = bin2dec(golomb[q + 1:]) - d\n",
        "  return q*b + r\n",
        "s=input()\n",
        "print('Result: ')\n",
        "print(golomb_decoding(s,3))"
      ],
      "execution_count": null,
      "outputs": [
        {
          "output_type": "stream",
          "text": [
            "Enter code for golomb decoding (b = 3): \n",
            "00110\n",
            "Result: \n",
            "7\n"
          ],
          "name": "stdout"
        }
      ]
    },
    {
      "cell_type": "markdown",
      "metadata": {
        "id": "8szQAieXx78O"
      },
      "source": [
        "#Naive Bayes"
      ]
    },
    {
      "cell_type": "code",
      "metadata": {
        "id": "GJzr_FsLrmO9"
      },
      "source": [
        "import numpy as np\n",
        "import matplotlib.pyplot as plt\n",
        "import matplotlib.image as mpimg\n",
        "import pandas as pd"
      ],
      "execution_count": null,
      "outputs": []
    },
    {
      "cell_type": "code",
      "metadata": {
        "colab": {
          "base_uri": "https://localhost:8080/",
          "height": 402
        },
        "id": "81aS4xn-tL2M",
        "outputId": "678f1c74-9281-4925-c885-0bb00e4913d0"
      },
      "source": [
        "dataset = pd.read_csv('/content/Iris.csv')\n",
        "dataset"
      ],
      "execution_count": null,
      "outputs": [
        {
          "output_type": "execute_result",
          "data": {
            "text/html": [
              "<div>\n",
              "<style scoped>\n",
              "    .dataframe tbody tr th:only-of-type {\n",
              "        vertical-align: middle;\n",
              "    }\n",
              "\n",
              "    .dataframe tbody tr th {\n",
              "        vertical-align: top;\n",
              "    }\n",
              "\n",
              "    .dataframe thead th {\n",
              "        text-align: right;\n",
              "    }\n",
              "</style>\n",
              "<table border=\"1\" class=\"dataframe\">\n",
              "  <thead>\n",
              "    <tr style=\"text-align: right;\">\n",
              "      <th></th>\n",
              "      <th>Id</th>\n",
              "      <th>SepalLengthCm</th>\n",
              "      <th>SepalWidthCm</th>\n",
              "      <th>PetalLengthCm</th>\n",
              "      <th>PetalWidthCm</th>\n",
              "      <th>Species</th>\n",
              "    </tr>\n",
              "  </thead>\n",
              "  <tbody>\n",
              "    <tr>\n",
              "      <th>0</th>\n",
              "      <td>1</td>\n",
              "      <td>5.1</td>\n",
              "      <td>3.5</td>\n",
              "      <td>1.4</td>\n",
              "      <td>0.2</td>\n",
              "      <td>Iris-setosa</td>\n",
              "    </tr>\n",
              "    <tr>\n",
              "      <th>1</th>\n",
              "      <td>2</td>\n",
              "      <td>4.9</td>\n",
              "      <td>3.0</td>\n",
              "      <td>1.4</td>\n",
              "      <td>0.2</td>\n",
              "      <td>Iris-setosa</td>\n",
              "    </tr>\n",
              "    <tr>\n",
              "      <th>2</th>\n",
              "      <td>3</td>\n",
              "      <td>4.7</td>\n",
              "      <td>3.2</td>\n",
              "      <td>1.3</td>\n",
              "      <td>0.2</td>\n",
              "      <td>Iris-setosa</td>\n",
              "    </tr>\n",
              "    <tr>\n",
              "      <th>3</th>\n",
              "      <td>4</td>\n",
              "      <td>4.6</td>\n",
              "      <td>3.1</td>\n",
              "      <td>1.5</td>\n",
              "      <td>0.2</td>\n",
              "      <td>Iris-setosa</td>\n",
              "    </tr>\n",
              "    <tr>\n",
              "      <th>4</th>\n",
              "      <td>5</td>\n",
              "      <td>5.0</td>\n",
              "      <td>3.6</td>\n",
              "      <td>1.4</td>\n",
              "      <td>0.2</td>\n",
              "      <td>Iris-setosa</td>\n",
              "    </tr>\n",
              "    <tr>\n",
              "      <th>...</th>\n",
              "      <td>...</td>\n",
              "      <td>...</td>\n",
              "      <td>...</td>\n",
              "      <td>...</td>\n",
              "      <td>...</td>\n",
              "      <td>...</td>\n",
              "    </tr>\n",
              "    <tr>\n",
              "      <th>145</th>\n",
              "      <td>146</td>\n",
              "      <td>6.7</td>\n",
              "      <td>3.0</td>\n",
              "      <td>5.2</td>\n",
              "      <td>2.3</td>\n",
              "      <td>Iris-virginica</td>\n",
              "    </tr>\n",
              "    <tr>\n",
              "      <th>146</th>\n",
              "      <td>147</td>\n",
              "      <td>6.3</td>\n",
              "      <td>2.5</td>\n",
              "      <td>5.0</td>\n",
              "      <td>1.9</td>\n",
              "      <td>Iris-virginica</td>\n",
              "    </tr>\n",
              "    <tr>\n",
              "      <th>147</th>\n",
              "      <td>148</td>\n",
              "      <td>6.5</td>\n",
              "      <td>3.0</td>\n",
              "      <td>5.2</td>\n",
              "      <td>2.0</td>\n",
              "      <td>Iris-virginica</td>\n",
              "    </tr>\n",
              "    <tr>\n",
              "      <th>148</th>\n",
              "      <td>149</td>\n",
              "      <td>6.2</td>\n",
              "      <td>3.4</td>\n",
              "      <td>5.4</td>\n",
              "      <td>2.3</td>\n",
              "      <td>Iris-virginica</td>\n",
              "    </tr>\n",
              "    <tr>\n",
              "      <th>149</th>\n",
              "      <td>150</td>\n",
              "      <td>5.9</td>\n",
              "      <td>3.0</td>\n",
              "      <td>5.1</td>\n",
              "      <td>1.8</td>\n",
              "      <td>Iris-virginica</td>\n",
              "    </tr>\n",
              "  </tbody>\n",
              "</table>\n",
              "<p>150 rows × 6 columns</p>\n",
              "</div>"
            ],
            "text/plain": [
              "      Id  SepalLengthCm  ...  PetalWidthCm         Species\n",
              "0      1            5.1  ...           0.2     Iris-setosa\n",
              "1      2            4.9  ...           0.2     Iris-setosa\n",
              "2      3            4.7  ...           0.2     Iris-setosa\n",
              "3      4            4.6  ...           0.2     Iris-setosa\n",
              "4      5            5.0  ...           0.2     Iris-setosa\n",
              "..   ...            ...  ...           ...             ...\n",
              "145  146            6.7  ...           2.3  Iris-virginica\n",
              "146  147            6.3  ...           1.9  Iris-virginica\n",
              "147  148            6.5  ...           2.0  Iris-virginica\n",
              "148  149            6.2  ...           2.3  Iris-virginica\n",
              "149  150            5.9  ...           1.8  Iris-virginica\n",
              "\n",
              "[150 rows x 6 columns]"
            ]
          },
          "metadata": {
            "tags": []
          },
          "execution_count": 28
        }
      ]
    },
    {
      "cell_type": "code",
      "metadata": {
        "colab": {
          "base_uri": "https://localhost:8080/",
          "height": 195
        },
        "id": "QTZX5LcltT7x",
        "outputId": "db77aec0-0f61-4bae-d19b-8ebdf19747e4"
      },
      "source": [
        "dataset.head()"
      ],
      "execution_count": null,
      "outputs": [
        {
          "output_type": "execute_result",
          "data": {
            "text/html": [
              "<div>\n",
              "<style scoped>\n",
              "    .dataframe tbody tr th:only-of-type {\n",
              "        vertical-align: middle;\n",
              "    }\n",
              "\n",
              "    .dataframe tbody tr th {\n",
              "        vertical-align: top;\n",
              "    }\n",
              "\n",
              "    .dataframe thead th {\n",
              "        text-align: right;\n",
              "    }\n",
              "</style>\n",
              "<table border=\"1\" class=\"dataframe\">\n",
              "  <thead>\n",
              "    <tr style=\"text-align: right;\">\n",
              "      <th></th>\n",
              "      <th>Id</th>\n",
              "      <th>SepalLengthCm</th>\n",
              "      <th>SepalWidthCm</th>\n",
              "      <th>PetalLengthCm</th>\n",
              "      <th>PetalWidthCm</th>\n",
              "      <th>Species</th>\n",
              "    </tr>\n",
              "  </thead>\n",
              "  <tbody>\n",
              "    <tr>\n",
              "      <th>0</th>\n",
              "      <td>1</td>\n",
              "      <td>5.1</td>\n",
              "      <td>3.5</td>\n",
              "      <td>1.4</td>\n",
              "      <td>0.2</td>\n",
              "      <td>Iris-setosa</td>\n",
              "    </tr>\n",
              "    <tr>\n",
              "      <th>1</th>\n",
              "      <td>2</td>\n",
              "      <td>4.9</td>\n",
              "      <td>3.0</td>\n",
              "      <td>1.4</td>\n",
              "      <td>0.2</td>\n",
              "      <td>Iris-setosa</td>\n",
              "    </tr>\n",
              "    <tr>\n",
              "      <th>2</th>\n",
              "      <td>3</td>\n",
              "      <td>4.7</td>\n",
              "      <td>3.2</td>\n",
              "      <td>1.3</td>\n",
              "      <td>0.2</td>\n",
              "      <td>Iris-setosa</td>\n",
              "    </tr>\n",
              "    <tr>\n",
              "      <th>3</th>\n",
              "      <td>4</td>\n",
              "      <td>4.6</td>\n",
              "      <td>3.1</td>\n",
              "      <td>1.5</td>\n",
              "      <td>0.2</td>\n",
              "      <td>Iris-setosa</td>\n",
              "    </tr>\n",
              "    <tr>\n",
              "      <th>4</th>\n",
              "      <td>5</td>\n",
              "      <td>5.0</td>\n",
              "      <td>3.6</td>\n",
              "      <td>1.4</td>\n",
              "      <td>0.2</td>\n",
              "      <td>Iris-setosa</td>\n",
              "    </tr>\n",
              "  </tbody>\n",
              "</table>\n",
              "</div>"
            ],
            "text/plain": [
              "   Id  SepalLengthCm  SepalWidthCm  PetalLengthCm  PetalWidthCm      Species\n",
              "0   1            5.1           3.5            1.4           0.2  Iris-setosa\n",
              "1   2            4.9           3.0            1.4           0.2  Iris-setosa\n",
              "2   3            4.7           3.2            1.3           0.2  Iris-setosa\n",
              "3   4            4.6           3.1            1.5           0.2  Iris-setosa\n",
              "4   5            5.0           3.6            1.4           0.2  Iris-setosa"
            ]
          },
          "metadata": {
            "tags": []
          },
          "execution_count": 29
        }
      ]
    },
    {
      "cell_type": "code",
      "metadata": {
        "id": "0_9rhYz9u---"
      },
      "source": [
        "X = dataset.iloc[:,:4].values\n",
        "y = dataset['Species'].values"
      ],
      "execution_count": null,
      "outputs": []
    },
    {
      "cell_type": "code",
      "metadata": {
        "id": "QiNTjRdwv9VC"
      },
      "source": [
        "from sklearn.model_selection import train_test_split\n",
        "X_train, X_test, y_train, y_test = train_test_split(X, y, test_size = 0.20, random_state = 82)"
      ],
      "execution_count": null,
      "outputs": []
    },
    {
      "cell_type": "code",
      "metadata": {
        "id": "3o7DmdvKwB7S"
      },
      "source": [
        "from sklearn.preprocessing import StandardScaler\n",
        "sc = StandardScaler()\n",
        "X_train = sc.fit_transform(X_train)\n",
        "X_test = sc.transform(X_test)"
      ],
      "execution_count": null,
      "outputs": []
    },
    {
      "cell_type": "code",
      "metadata": {
        "colab": {
          "base_uri": "https://localhost:8080/"
        },
        "id": "LFjczJvYwJcl",
        "outputId": "530cf626-cf16-46e4-cf7d-5c0f41b5f12b"
      },
      "source": [
        "from sklearn.naive_bayes import GaussianNB\n",
        "nvclassifier = GaussianNB()\n",
        "nvclassifier.fit(X_train, y_train)"
      ],
      "execution_count": null,
      "outputs": [
        {
          "output_type": "execute_result",
          "data": {
            "text/plain": [
              "GaussianNB(priors=None, var_smoothing=1e-09)"
            ]
          },
          "metadata": {
            "tags": []
          },
          "execution_count": 34
        }
      ]
    },
    {
      "cell_type": "code",
      "metadata": {
        "colab": {
          "base_uri": "https://localhost:8080/"
        },
        "id": "oBEXzqI0wNrc",
        "outputId": "81a49b67-7363-4313-b83c-9f61d9e8de40"
      },
      "source": [
        "y_pred = nvclassifier.predict(X_test)\n",
        "print(y_pred)"
      ],
      "execution_count": null,
      "outputs": [
        {
          "output_type": "stream",
          "text": [
            "['Iris-virginica' 'Iris-virginica' 'Iris-setosa' 'Iris-setosa'\n",
            " 'Iris-setosa' 'Iris-versicolor' 'Iris-versicolor' 'Iris-versicolor'\n",
            " 'Iris-virginica' 'Iris-versicolor' 'Iris-versicolor' 'Iris-virginica'\n",
            " 'Iris-setosa' 'Iris-setosa' 'Iris-setosa' 'Iris-setosa' 'Iris-virginica'\n",
            " 'Iris-versicolor' 'Iris-setosa' 'Iris-versicolor' 'Iris-setosa'\n",
            " 'Iris-virginica' 'Iris-setosa' 'Iris-virginica' 'Iris-virginica'\n",
            " 'Iris-versicolor' 'Iris-virginica' 'Iris-setosa' 'Iris-virginica'\n",
            " 'Iris-versicolor']\n"
          ],
          "name": "stdout"
        }
      ]
    },
    {
      "cell_type": "code",
      "metadata": {
        "colab": {
          "base_uri": "https://localhost:8080/"
        },
        "id": "Kde1CyqewtU5",
        "outputId": "84682057-80ee-40a6-b30f-166cefd75aeb"
      },
      "source": [
        "y_compare = np.vstack((y_test,y_pred)).T\n",
        "y_compare[:5,:]"
      ],
      "execution_count": null,
      "outputs": [
        {
          "output_type": "execute_result",
          "data": {
            "text/plain": [
              "array([['Iris-virginica', 'Iris-virginica'],\n",
              "       ['Iris-virginica', 'Iris-virginica'],\n",
              "       ['Iris-setosa', 'Iris-setosa'],\n",
              "       ['Iris-setosa', 'Iris-setosa'],\n",
              "       ['Iris-setosa', 'Iris-setosa']], dtype=object)"
            ]
          },
          "metadata": {
            "tags": []
          },
          "execution_count": 36
        }
      ]
    },
    {
      "cell_type": "code",
      "metadata": {
        "colab": {
          "base_uri": "https://localhost:8080/"
        },
        "id": "IbHfHEY4wgPD",
        "outputId": "a722ef97-eddd-4895-ec56-f7895208c457"
      },
      "source": [
        "from sklearn.metrics import confusion_matrix\n",
        "cm = confusion_matrix(y_test, y_pred)\n",
        "print(cm)"
      ],
      "execution_count": null,
      "outputs": [
        {
          "output_type": "stream",
          "text": [
            "[[11  0  0]\n",
            " [ 0  9  0]\n",
            " [ 0  0 10]]\n"
          ],
          "name": "stdout"
        }
      ]
    },
    {
      "cell_type": "code",
      "metadata": {
        "colab": {
          "base_uri": "https://localhost:8080/"
        },
        "id": "7R5pM0O_wpOA",
        "outputId": "b07d2b12-aa4d-4569-dc9b-df38faaa8d33"
      },
      "source": [
        "a = cm.shape\n",
        "corrPred = 0\n",
        "falsePred = 0\n",
        "\n",
        "for row in range(a[0]):\n",
        "    for c in range(a[1]):\n",
        "        if row == c:\n",
        "            corrPred +=cm[row,c]\n",
        "        else:\n",
        "            falsePred += cm[row,c]\n",
        "print('Correct predictions: ', corrPred)\n",
        "print('False predictions', falsePred)\n",
        "print ('\\n\\nAccuracy of the Naive Bayes Clasification is: ', corrPred/(cm.sum()))"
      ],
      "execution_count": null,
      "outputs": [
        {
          "output_type": "stream",
          "text": [
            "Correct predictions:  30\n",
            "False predictions 0\n",
            "\n",
            "\n",
            "Accuracy of the Naive Bayes Clasification is:  1.0\n"
          ],
          "name": "stdout"
        }
      ]
    },
    {
      "cell_type": "code",
      "metadata": {
        "colab": {
          "base_uri": "https://localhost:8080/",
          "height": 935
        },
        "id": "el1Nx022xKx4",
        "outputId": "f8ee9fd4-d60e-40c5-d3c0-1d5dc75dc184"
      },
      "source": [
        "df = pd.DataFrame({'Real Values':y_test, 'Predicted Values':y_pred})\n",
        "df"
      ],
      "execution_count": null,
      "outputs": [
        {
          "output_type": "execute_result",
          "data": {
            "text/html": [
              "<div>\n",
              "<style scoped>\n",
              "    .dataframe tbody tr th:only-of-type {\n",
              "        vertical-align: middle;\n",
              "    }\n",
              "\n",
              "    .dataframe tbody tr th {\n",
              "        vertical-align: top;\n",
              "    }\n",
              "\n",
              "    .dataframe thead th {\n",
              "        text-align: right;\n",
              "    }\n",
              "</style>\n",
              "<table border=\"1\" class=\"dataframe\">\n",
              "  <thead>\n",
              "    <tr style=\"text-align: right;\">\n",
              "      <th></th>\n",
              "      <th>Real Values</th>\n",
              "      <th>Predicted Values</th>\n",
              "    </tr>\n",
              "  </thead>\n",
              "  <tbody>\n",
              "    <tr>\n",
              "      <th>0</th>\n",
              "      <td>Iris-virginica</td>\n",
              "      <td>Iris-virginica</td>\n",
              "    </tr>\n",
              "    <tr>\n",
              "      <th>1</th>\n",
              "      <td>Iris-virginica</td>\n",
              "      <td>Iris-virginica</td>\n",
              "    </tr>\n",
              "    <tr>\n",
              "      <th>2</th>\n",
              "      <td>Iris-setosa</td>\n",
              "      <td>Iris-setosa</td>\n",
              "    </tr>\n",
              "    <tr>\n",
              "      <th>3</th>\n",
              "      <td>Iris-setosa</td>\n",
              "      <td>Iris-setosa</td>\n",
              "    </tr>\n",
              "    <tr>\n",
              "      <th>4</th>\n",
              "      <td>Iris-setosa</td>\n",
              "      <td>Iris-setosa</td>\n",
              "    </tr>\n",
              "    <tr>\n",
              "      <th>5</th>\n",
              "      <td>Iris-versicolor</td>\n",
              "      <td>Iris-versicolor</td>\n",
              "    </tr>\n",
              "    <tr>\n",
              "      <th>6</th>\n",
              "      <td>Iris-versicolor</td>\n",
              "      <td>Iris-versicolor</td>\n",
              "    </tr>\n",
              "    <tr>\n",
              "      <th>7</th>\n",
              "      <td>Iris-versicolor</td>\n",
              "      <td>Iris-versicolor</td>\n",
              "    </tr>\n",
              "    <tr>\n",
              "      <th>8</th>\n",
              "      <td>Iris-virginica</td>\n",
              "      <td>Iris-virginica</td>\n",
              "    </tr>\n",
              "    <tr>\n",
              "      <th>9</th>\n",
              "      <td>Iris-versicolor</td>\n",
              "      <td>Iris-versicolor</td>\n",
              "    </tr>\n",
              "    <tr>\n",
              "      <th>10</th>\n",
              "      <td>Iris-versicolor</td>\n",
              "      <td>Iris-versicolor</td>\n",
              "    </tr>\n",
              "    <tr>\n",
              "      <th>11</th>\n",
              "      <td>Iris-virginica</td>\n",
              "      <td>Iris-virginica</td>\n",
              "    </tr>\n",
              "    <tr>\n",
              "      <th>12</th>\n",
              "      <td>Iris-setosa</td>\n",
              "      <td>Iris-setosa</td>\n",
              "    </tr>\n",
              "    <tr>\n",
              "      <th>13</th>\n",
              "      <td>Iris-setosa</td>\n",
              "      <td>Iris-setosa</td>\n",
              "    </tr>\n",
              "    <tr>\n",
              "      <th>14</th>\n",
              "      <td>Iris-setosa</td>\n",
              "      <td>Iris-setosa</td>\n",
              "    </tr>\n",
              "    <tr>\n",
              "      <th>15</th>\n",
              "      <td>Iris-setosa</td>\n",
              "      <td>Iris-setosa</td>\n",
              "    </tr>\n",
              "    <tr>\n",
              "      <th>16</th>\n",
              "      <td>Iris-virginica</td>\n",
              "      <td>Iris-virginica</td>\n",
              "    </tr>\n",
              "    <tr>\n",
              "      <th>17</th>\n",
              "      <td>Iris-versicolor</td>\n",
              "      <td>Iris-versicolor</td>\n",
              "    </tr>\n",
              "    <tr>\n",
              "      <th>18</th>\n",
              "      <td>Iris-setosa</td>\n",
              "      <td>Iris-setosa</td>\n",
              "    </tr>\n",
              "    <tr>\n",
              "      <th>19</th>\n",
              "      <td>Iris-versicolor</td>\n",
              "      <td>Iris-versicolor</td>\n",
              "    </tr>\n",
              "    <tr>\n",
              "      <th>20</th>\n",
              "      <td>Iris-setosa</td>\n",
              "      <td>Iris-setosa</td>\n",
              "    </tr>\n",
              "    <tr>\n",
              "      <th>21</th>\n",
              "      <td>Iris-virginica</td>\n",
              "      <td>Iris-virginica</td>\n",
              "    </tr>\n",
              "    <tr>\n",
              "      <th>22</th>\n",
              "      <td>Iris-setosa</td>\n",
              "      <td>Iris-setosa</td>\n",
              "    </tr>\n",
              "    <tr>\n",
              "      <th>23</th>\n",
              "      <td>Iris-virginica</td>\n",
              "      <td>Iris-virginica</td>\n",
              "    </tr>\n",
              "    <tr>\n",
              "      <th>24</th>\n",
              "      <td>Iris-virginica</td>\n",
              "      <td>Iris-virginica</td>\n",
              "    </tr>\n",
              "    <tr>\n",
              "      <th>25</th>\n",
              "      <td>Iris-versicolor</td>\n",
              "      <td>Iris-versicolor</td>\n",
              "    </tr>\n",
              "    <tr>\n",
              "      <th>26</th>\n",
              "      <td>Iris-virginica</td>\n",
              "      <td>Iris-virginica</td>\n",
              "    </tr>\n",
              "    <tr>\n",
              "      <th>27</th>\n",
              "      <td>Iris-setosa</td>\n",
              "      <td>Iris-setosa</td>\n",
              "    </tr>\n",
              "    <tr>\n",
              "      <th>28</th>\n",
              "      <td>Iris-virginica</td>\n",
              "      <td>Iris-virginica</td>\n",
              "    </tr>\n",
              "    <tr>\n",
              "      <th>29</th>\n",
              "      <td>Iris-versicolor</td>\n",
              "      <td>Iris-versicolor</td>\n",
              "    </tr>\n",
              "  </tbody>\n",
              "</table>\n",
              "</div>"
            ],
            "text/plain": [
              "        Real Values Predicted Values\n",
              "0    Iris-virginica   Iris-virginica\n",
              "1    Iris-virginica   Iris-virginica\n",
              "2       Iris-setosa      Iris-setosa\n",
              "3       Iris-setosa      Iris-setosa\n",
              "4       Iris-setosa      Iris-setosa\n",
              "5   Iris-versicolor  Iris-versicolor\n",
              "6   Iris-versicolor  Iris-versicolor\n",
              "7   Iris-versicolor  Iris-versicolor\n",
              "8    Iris-virginica   Iris-virginica\n",
              "9   Iris-versicolor  Iris-versicolor\n",
              "10  Iris-versicolor  Iris-versicolor\n",
              "11   Iris-virginica   Iris-virginica\n",
              "12      Iris-setosa      Iris-setosa\n",
              "13      Iris-setosa      Iris-setosa\n",
              "14      Iris-setosa      Iris-setosa\n",
              "15      Iris-setosa      Iris-setosa\n",
              "16   Iris-virginica   Iris-virginica\n",
              "17  Iris-versicolor  Iris-versicolor\n",
              "18      Iris-setosa      Iris-setosa\n",
              "19  Iris-versicolor  Iris-versicolor\n",
              "20      Iris-setosa      Iris-setosa\n",
              "21   Iris-virginica   Iris-virginica\n",
              "22      Iris-setosa      Iris-setosa\n",
              "23   Iris-virginica   Iris-virginica\n",
              "24   Iris-virginica   Iris-virginica\n",
              "25  Iris-versicolor  Iris-versicolor\n",
              "26   Iris-virginica   Iris-virginica\n",
              "27      Iris-setosa      Iris-setosa\n",
              "28   Iris-virginica   Iris-virginica\n",
              "29  Iris-versicolor  Iris-versicolor"
            ]
          },
          "metadata": {
            "tags": []
          },
          "execution_count": 26
        }
      ]
    },
    {
      "cell_type": "markdown",
      "metadata": {
        "id": "KK5cdmdYx0WS"
      },
      "source": [
        "#K-Means"
      ]
    },
    {
      "cell_type": "code",
      "metadata": {
        "id": "wERlvb7mx2Ku"
      },
      "source": [
        "import pandas as pd\n",
        "import numpy as np\n",
        "from sklearn import datasets\n",
        "from sklearn.cluster import KMeans\n",
        "import matplotlib.pyplot as plt\n",
        "import matplotlib.patches as mpatches\n",
        "import sklearn.metrics as sm\n",
        "%matplotlib inline"
      ],
      "execution_count": null,
      "outputs": []
    },
    {
      "cell_type": "code",
      "metadata": {
        "colab": {
          "base_uri": "https://localhost:8080/"
        },
        "id": "DDQXUvaSx4h_",
        "outputId": "08e04385-f305-4555-9a7d-b83eb21799d8"
      },
      "source": [
        "iris = datasets.load_iris()\n",
        "print(iris.data)"
      ],
      "execution_count": null,
      "outputs": [
        {
          "output_type": "stream",
          "text": [
            "[[5.1 3.5 1.4 0.2]\n",
            " [4.9 3.  1.4 0.2]\n",
            " [4.7 3.2 1.3 0.2]\n",
            " [4.6 3.1 1.5 0.2]\n",
            " [5.  3.6 1.4 0.2]\n",
            " [5.4 3.9 1.7 0.4]\n",
            " [4.6 3.4 1.4 0.3]\n",
            " [5.  3.4 1.5 0.2]\n",
            " [4.4 2.9 1.4 0.2]\n",
            " [4.9 3.1 1.5 0.1]\n",
            " [5.4 3.7 1.5 0.2]\n",
            " [4.8 3.4 1.6 0.2]\n",
            " [4.8 3.  1.4 0.1]\n",
            " [4.3 3.  1.1 0.1]\n",
            " [5.8 4.  1.2 0.2]\n",
            " [5.7 4.4 1.5 0.4]\n",
            " [5.4 3.9 1.3 0.4]\n",
            " [5.1 3.5 1.4 0.3]\n",
            " [5.7 3.8 1.7 0.3]\n",
            " [5.1 3.8 1.5 0.3]\n",
            " [5.4 3.4 1.7 0.2]\n",
            " [5.1 3.7 1.5 0.4]\n",
            " [4.6 3.6 1.  0.2]\n",
            " [5.1 3.3 1.7 0.5]\n",
            " [4.8 3.4 1.9 0.2]\n",
            " [5.  3.  1.6 0.2]\n",
            " [5.  3.4 1.6 0.4]\n",
            " [5.2 3.5 1.5 0.2]\n",
            " [5.2 3.4 1.4 0.2]\n",
            " [4.7 3.2 1.6 0.2]\n",
            " [4.8 3.1 1.6 0.2]\n",
            " [5.4 3.4 1.5 0.4]\n",
            " [5.2 4.1 1.5 0.1]\n",
            " [5.5 4.2 1.4 0.2]\n",
            " [4.9 3.1 1.5 0.2]\n",
            " [5.  3.2 1.2 0.2]\n",
            " [5.5 3.5 1.3 0.2]\n",
            " [4.9 3.6 1.4 0.1]\n",
            " [4.4 3.  1.3 0.2]\n",
            " [5.1 3.4 1.5 0.2]\n",
            " [5.  3.5 1.3 0.3]\n",
            " [4.5 2.3 1.3 0.3]\n",
            " [4.4 3.2 1.3 0.2]\n",
            " [5.  3.5 1.6 0.6]\n",
            " [5.1 3.8 1.9 0.4]\n",
            " [4.8 3.  1.4 0.3]\n",
            " [5.1 3.8 1.6 0.2]\n",
            " [4.6 3.2 1.4 0.2]\n",
            " [5.3 3.7 1.5 0.2]\n",
            " [5.  3.3 1.4 0.2]\n",
            " [7.  3.2 4.7 1.4]\n",
            " [6.4 3.2 4.5 1.5]\n",
            " [6.9 3.1 4.9 1.5]\n",
            " [5.5 2.3 4.  1.3]\n",
            " [6.5 2.8 4.6 1.5]\n",
            " [5.7 2.8 4.5 1.3]\n",
            " [6.3 3.3 4.7 1.6]\n",
            " [4.9 2.4 3.3 1. ]\n",
            " [6.6 2.9 4.6 1.3]\n",
            " [5.2 2.7 3.9 1.4]\n",
            " [5.  2.  3.5 1. ]\n",
            " [5.9 3.  4.2 1.5]\n",
            " [6.  2.2 4.  1. ]\n",
            " [6.1 2.9 4.7 1.4]\n",
            " [5.6 2.9 3.6 1.3]\n",
            " [6.7 3.1 4.4 1.4]\n",
            " [5.6 3.  4.5 1.5]\n",
            " [5.8 2.7 4.1 1. ]\n",
            " [6.2 2.2 4.5 1.5]\n",
            " [5.6 2.5 3.9 1.1]\n",
            " [5.9 3.2 4.8 1.8]\n",
            " [6.1 2.8 4.  1.3]\n",
            " [6.3 2.5 4.9 1.5]\n",
            " [6.1 2.8 4.7 1.2]\n",
            " [6.4 2.9 4.3 1.3]\n",
            " [6.6 3.  4.4 1.4]\n",
            " [6.8 2.8 4.8 1.4]\n",
            " [6.7 3.  5.  1.7]\n",
            " [6.  2.9 4.5 1.5]\n",
            " [5.7 2.6 3.5 1. ]\n",
            " [5.5 2.4 3.8 1.1]\n",
            " [5.5 2.4 3.7 1. ]\n",
            " [5.8 2.7 3.9 1.2]\n",
            " [6.  2.7 5.1 1.6]\n",
            " [5.4 3.  4.5 1.5]\n",
            " [6.  3.4 4.5 1.6]\n",
            " [6.7 3.1 4.7 1.5]\n",
            " [6.3 2.3 4.4 1.3]\n",
            " [5.6 3.  4.1 1.3]\n",
            " [5.5 2.5 4.  1.3]\n",
            " [5.5 2.6 4.4 1.2]\n",
            " [6.1 3.  4.6 1.4]\n",
            " [5.8 2.6 4.  1.2]\n",
            " [5.  2.3 3.3 1. ]\n",
            " [5.6 2.7 4.2 1.3]\n",
            " [5.7 3.  4.2 1.2]\n",
            " [5.7 2.9 4.2 1.3]\n",
            " [6.2 2.9 4.3 1.3]\n",
            " [5.1 2.5 3.  1.1]\n",
            " [5.7 2.8 4.1 1.3]\n",
            " [6.3 3.3 6.  2.5]\n",
            " [5.8 2.7 5.1 1.9]\n",
            " [7.1 3.  5.9 2.1]\n",
            " [6.3 2.9 5.6 1.8]\n",
            " [6.5 3.  5.8 2.2]\n",
            " [7.6 3.  6.6 2.1]\n",
            " [4.9 2.5 4.5 1.7]\n",
            " [7.3 2.9 6.3 1.8]\n",
            " [6.7 2.5 5.8 1.8]\n",
            " [7.2 3.6 6.1 2.5]\n",
            " [6.5 3.2 5.1 2. ]\n",
            " [6.4 2.7 5.3 1.9]\n",
            " [6.8 3.  5.5 2.1]\n",
            " [5.7 2.5 5.  2. ]\n",
            " [5.8 2.8 5.1 2.4]\n",
            " [6.4 3.2 5.3 2.3]\n",
            " [6.5 3.  5.5 1.8]\n",
            " [7.7 3.8 6.7 2.2]\n",
            " [7.7 2.6 6.9 2.3]\n",
            " [6.  2.2 5.  1.5]\n",
            " [6.9 3.2 5.7 2.3]\n",
            " [5.6 2.8 4.9 2. ]\n",
            " [7.7 2.8 6.7 2. ]\n",
            " [6.3 2.7 4.9 1.8]\n",
            " [6.7 3.3 5.7 2.1]\n",
            " [7.2 3.2 6.  1.8]\n",
            " [6.2 2.8 4.8 1.8]\n",
            " [6.1 3.  4.9 1.8]\n",
            " [6.4 2.8 5.6 2.1]\n",
            " [7.2 3.  5.8 1.6]\n",
            " [7.4 2.8 6.1 1.9]\n",
            " [7.9 3.8 6.4 2. ]\n",
            " [6.4 2.8 5.6 2.2]\n",
            " [6.3 2.8 5.1 1.5]\n",
            " [6.1 2.6 5.6 1.4]\n",
            " [7.7 3.  6.1 2.3]\n",
            " [6.3 3.4 5.6 2.4]\n",
            " [6.4 3.1 5.5 1.8]\n",
            " [6.  3.  4.8 1.8]\n",
            " [6.9 3.1 5.4 2.1]\n",
            " [6.7 3.1 5.6 2.4]\n",
            " [6.9 3.1 5.1 2.3]\n",
            " [5.8 2.7 5.1 1.9]\n",
            " [6.8 3.2 5.9 2.3]\n",
            " [6.7 3.3 5.7 2.5]\n",
            " [6.7 3.  5.2 2.3]\n",
            " [6.3 2.5 5.  1.9]\n",
            " [6.5 3.  5.2 2. ]\n",
            " [6.2 3.4 5.4 2.3]\n",
            " [5.9 3.  5.1 1.8]]\n"
          ],
          "name": "stdout"
        }
      ]
    },
    {
      "cell_type": "code",
      "metadata": {
        "colab": {
          "base_uri": "https://localhost:8080/"
        },
        "id": "XO163JwMyqgf",
        "outputId": "d2fd7104-2164-4e38-d0c5-dfab1d3fa5c4"
      },
      "source": [
        "print(iris.target_names)"
      ],
      "execution_count": null,
      "outputs": [
        {
          "output_type": "stream",
          "text": [
            "['setosa' 'versicolor' 'virginica']\n"
          ],
          "name": "stdout"
        }
      ]
    },
    {
      "cell_type": "code",
      "metadata": {
        "colab": {
          "base_uri": "https://localhost:8080/"
        },
        "id": "Ku_4nfUY0M-W",
        "outputId": "2a41b547-e0f1-4e7d-9787-09497a631070"
      },
      "source": [
        "print(iris.target)"
      ],
      "execution_count": null,
      "outputs": [
        {
          "output_type": "stream",
          "text": [
            "[0 0 0 0 0 0 0 0 0 0 0 0 0 0 0 0 0 0 0 0 0 0 0 0 0 0 0 0 0 0 0 0 0 0 0 0 0\n",
            " 0 0 0 0 0 0 0 0 0 0 0 0 0 1 1 1 1 1 1 1 1 1 1 1 1 1 1 1 1 1 1 1 1 1 1 1 1\n",
            " 1 1 1 1 1 1 1 1 1 1 1 1 1 1 1 1 1 1 1 1 1 1 1 1 1 1 2 2 2 2 2 2 2 2 2 2 2\n",
            " 2 2 2 2 2 2 2 2 2 2 2 2 2 2 2 2 2 2 2 2 2 2 2 2 2 2 2 2 2 2 2 2 2 2 2 2 2\n",
            " 2 2]\n"
          ],
          "name": "stdout"
        }
      ]
    },
    {
      "cell_type": "code",
      "metadata": {
        "id": "veM-isBD0Rar"
      },
      "source": [
        "x = pd.DataFrame(iris.data, columns=['Sepal Length', 'Sepal Width', 'Petal Length', 'Petal Width'])\n",
        "y = pd.DataFrame(iris.target, columns=['Target'])"
      ],
      "execution_count": null,
      "outputs": []
    },
    {
      "cell_type": "code",
      "metadata": {
        "colab": {
          "base_uri": "https://localhost:8080/",
          "height": 195
        },
        "id": "Mtc4lpYl0UxM",
        "outputId": "724b8285-a3d3-4f7d-ff0c-6939b8fde883"
      },
      "source": [
        "x.head()"
      ],
      "execution_count": null,
      "outputs": [
        {
          "output_type": "execute_result",
          "data": {
            "text/html": [
              "<div>\n",
              "<style scoped>\n",
              "    .dataframe tbody tr th:only-of-type {\n",
              "        vertical-align: middle;\n",
              "    }\n",
              "\n",
              "    .dataframe tbody tr th {\n",
              "        vertical-align: top;\n",
              "    }\n",
              "\n",
              "    .dataframe thead th {\n",
              "        text-align: right;\n",
              "    }\n",
              "</style>\n",
              "<table border=\"1\" class=\"dataframe\">\n",
              "  <thead>\n",
              "    <tr style=\"text-align: right;\">\n",
              "      <th></th>\n",
              "      <th>Sepal Length</th>\n",
              "      <th>Sepal Width</th>\n",
              "      <th>Petal Length</th>\n",
              "      <th>Petal Width</th>\n",
              "    </tr>\n",
              "  </thead>\n",
              "  <tbody>\n",
              "    <tr>\n",
              "      <th>0</th>\n",
              "      <td>5.1</td>\n",
              "      <td>3.5</td>\n",
              "      <td>1.4</td>\n",
              "      <td>0.2</td>\n",
              "    </tr>\n",
              "    <tr>\n",
              "      <th>1</th>\n",
              "      <td>4.9</td>\n",
              "      <td>3.0</td>\n",
              "      <td>1.4</td>\n",
              "      <td>0.2</td>\n",
              "    </tr>\n",
              "    <tr>\n",
              "      <th>2</th>\n",
              "      <td>4.7</td>\n",
              "      <td>3.2</td>\n",
              "      <td>1.3</td>\n",
              "      <td>0.2</td>\n",
              "    </tr>\n",
              "    <tr>\n",
              "      <th>3</th>\n",
              "      <td>4.6</td>\n",
              "      <td>3.1</td>\n",
              "      <td>1.5</td>\n",
              "      <td>0.2</td>\n",
              "    </tr>\n",
              "    <tr>\n",
              "      <th>4</th>\n",
              "      <td>5.0</td>\n",
              "      <td>3.6</td>\n",
              "      <td>1.4</td>\n",
              "      <td>0.2</td>\n",
              "    </tr>\n",
              "  </tbody>\n",
              "</table>\n",
              "</div>"
            ],
            "text/plain": [
              "   Sepal Length  Sepal Width  Petal Length  Petal Width\n",
              "0           5.1          3.5           1.4          0.2\n",
              "1           4.9          3.0           1.4          0.2\n",
              "2           4.7          3.2           1.3          0.2\n",
              "3           4.6          3.1           1.5          0.2\n",
              "4           5.0          3.6           1.4          0.2"
            ]
          },
          "metadata": {
            "tags": []
          },
          "execution_count": 66
        }
      ]
    },
    {
      "cell_type": "code",
      "metadata": {
        "colab": {
          "base_uri": "https://localhost:8080/",
          "height": 195
        },
        "id": "v7lUgCTY0Xi8",
        "outputId": "e83f2cdd-5d0a-4e33-f937-8ba6437e54df"
      },
      "source": [
        "y.head()"
      ],
      "execution_count": null,
      "outputs": [
        {
          "output_type": "execute_result",
          "data": {
            "text/html": [
              "<div>\n",
              "<style scoped>\n",
              "    .dataframe tbody tr th:only-of-type {\n",
              "        vertical-align: middle;\n",
              "    }\n",
              "\n",
              "    .dataframe tbody tr th {\n",
              "        vertical-align: top;\n",
              "    }\n",
              "\n",
              "    .dataframe thead th {\n",
              "        text-align: right;\n",
              "    }\n",
              "</style>\n",
              "<table border=\"1\" class=\"dataframe\">\n",
              "  <thead>\n",
              "    <tr style=\"text-align: right;\">\n",
              "      <th></th>\n",
              "      <th>Target</th>\n",
              "    </tr>\n",
              "  </thead>\n",
              "  <tbody>\n",
              "    <tr>\n",
              "      <th>0</th>\n",
              "      <td>0</td>\n",
              "    </tr>\n",
              "    <tr>\n",
              "      <th>1</th>\n",
              "      <td>0</td>\n",
              "    </tr>\n",
              "    <tr>\n",
              "      <th>2</th>\n",
              "      <td>0</td>\n",
              "    </tr>\n",
              "    <tr>\n",
              "      <th>3</th>\n",
              "      <td>0</td>\n",
              "    </tr>\n",
              "    <tr>\n",
              "      <th>4</th>\n",
              "      <td>0</td>\n",
              "    </tr>\n",
              "  </tbody>\n",
              "</table>\n",
              "</div>"
            ],
            "text/plain": [
              "   Target\n",
              "0       0\n",
              "1       0\n",
              "2       0\n",
              "3       0\n",
              "4       0"
            ]
          },
          "metadata": {
            "tags": []
          },
          "execution_count": 53
        }
      ]
    },
    {
      "cell_type": "code",
      "metadata": {
        "colab": {
          "base_uri": "https://localhost:8080/",
          "height": 244
        },
        "id": "BYQtgQtA0d0A",
        "outputId": "a1ac323e-0e31-4df7-c60b-9915ce90de06"
      },
      "source": [
        "plt.figure(figsize=(12,3))\n",
        "colors = np.array(['red', 'green', 'blue'])\n",
        "iris_targets_legend = np.array(iris.target_names)\n",
        "red_patch = mpatches.Patch(color='red', label='Setosa')\n",
        "green_patch = mpatches.Patch(color='green', label='Versicolor')\n",
        "blue_patch = mpatches.Patch(color='blue', label='Virginica')\n",
        "\n",
        "\n",
        "plt.subplot(1, 2, 1)\n",
        "plt.scatter(x['Sepal Length'], x['Sepal Width'], c=colors[y['Target']])\n",
        "plt.title('Sepal Length vs Sepal Width')\n",
        "plt.legend(handles=[red_patch, green_patch, blue_patch])\n",
        "\n",
        "plt.subplot(1,2,2)\n",
        "plt.scatter(x['Petal Length'], x['Petal Width'], c= colors[y['Target']])\n",
        "plt.title('Petal Length vs Petal Width')\n",
        "plt.legend(handles=[red_patch, green_patch, blue_patch])"
      ],
      "execution_count": null,
      "outputs": [
        {
          "output_type": "execute_result",
          "data": {
            "text/plain": [
              "<matplotlib.legend.Legend at 0x7fe54325a110>"
            ]
          },
          "metadata": {
            "tags": []
          },
          "execution_count": 67
        },
        {
          "output_type": "display_data",
          "data": {
            "image/png": "[encoded data removed]",
            "text/plain": [
              "<Figure size 864x216 with 2 Axes>"
            ]
          },
          "metadata": {
            "tags": [],
            "needs_background": "light"
          }
        }
      ]
    },
    {
      "cell_type": "code",
      "metadata": {
        "colab": {
          "base_uri": "https://localhost:8080/"
        },
        "id": "uKuwIwBn0jmu",
        "outputId": "c09ddd43-d66e-4afa-c580-acde82c13724"
      },
      "source": [
        "iris_k_mean_model = KMeans(n_clusters=3)\n",
        "iris_k_mean_model.fit(x)"
      ],
      "execution_count": null,
      "outputs": [
        {
          "output_type": "execute_result",
          "data": {
            "text/plain": [
              "KMeans(algorithm='auto', copy_x=True, init='k-means++', max_iter=300,\n",
              "       n_clusters=3, n_init=10, n_jobs=None, precompute_distances='auto',\n",
              "       random_state=None, tol=0.0001, verbose=0)"
            ]
          },
          "metadata": {
            "tags": []
          },
          "execution_count": 68
        }
      ]
    },
    {
      "cell_type": "code",
      "metadata": {
        "colab": {
          "base_uri": "https://localhost:8080/"
        },
        "id": "l2fRV13G0mMK",
        "outputId": "7b0cd200-dac9-4d6f-a09e-c92f8358c653"
      },
      "source": [
        "print(iris_k_mean_model.labels_)"
      ],
      "execution_count": null,
      "outputs": [
        {
          "output_type": "stream",
          "text": [
            "[0 0 0 0 0 0 0 0 0 0 0 0 0 0 0 0 0 0 0 0 0 0 0 0 0 0 0 0 0 0 0 0 0 0 0 0 0\n",
            " 0 0 0 0 0 0 0 0 0 0 0 0 0 1 1 2 1 1 1 1 1 1 1 1 1 1 1 1 1 1 1 1 1 1 1 1 1\n",
            " 1 1 1 2 1 1 1 1 1 1 1 1 1 1 1 1 1 1 1 1 1 1 1 1 1 1 2 1 2 2 2 2 1 2 2 2 2\n",
            " 2 2 1 1 2 2 2 2 1 2 1 2 1 2 2 1 1 2 2 2 2 2 1 2 2 2 2 1 2 2 2 1 2 2 2 1 2\n",
            " 2 1]\n"
          ],
          "name": "stdout"
        }
      ]
    },
    {
      "cell_type": "code",
      "metadata": {
        "colab": {
          "base_uri": "https://localhost:8080/"
        },
        "id": "vjGSy05M0sxs",
        "outputId": "397a681f-312a-49d7-dc7f-523f2356c747"
      },
      "source": [
        "print(iris_k_mean_model.cluster_centers_)"
      ],
      "execution_count": null,
      "outputs": [
        {
          "output_type": "stream",
          "text": [
            "[[5.006      3.428      1.462      0.246     ]\n",
            " [5.9016129  2.7483871  4.39354839 1.43387097]\n",
            " [6.85       3.07368421 5.74210526 2.07105263]]\n"
          ],
          "name": "stdout"
        }
      ]
    },
    {
      "cell_type": "code",
      "metadata": {
        "colab": {
          "base_uri": "https://localhost:8080/",
          "height": 244
        },
        "id": "ZussfPfR0yGL",
        "outputId": "0169acf5-21ac-4af5-b1e4-b7373bb1d25c"
      },
      "source": [
        "plt.figure(figsize=(12,3))\n",
        "\n",
        "colors = np.array(['red', 'green', 'blue'])\n",
        "\n",
        "predictedY = np.choose(iris_k_mean_model.labels_, [1, 0, 2]).astype(np.int64)\n",
        "\n",
        "plt.subplot(1, 2, 1)\n",
        "plt.scatter(x['Petal Length'], x['Petal Width'], c=colors[y['Target']])\n",
        "plt.title('Before classification')\n",
        "plt.legend(handles=[red_patch, green_patch, blue_patch])\n",
        "\n",
        "plt.subplot(1, 2, 2)\n",
        "plt.scatter(x['Petal Length'], x['Petal Width'], c=colors[predictedY])\n",
        "plt.title(\"Model's classification\")\n",
        "plt.legend(handles=[red_patch, green_patch, blue_patch])"
      ],
      "execution_count": null,
      "outputs": [
        {
          "output_type": "execute_result",
          "data": {
            "text/plain": [
              "<matplotlib.legend.Legend at 0x7fe5433c8650>"
            ]
          },
          "metadata": {
            "tags": []
          },
          "execution_count": 59
        },
        {
          "output_type": "display_data",
          "data": {
            "image/png": "[encoded data removed]",
            "text/plain": [
              "<Figure size 864x216 with 2 Axes>"
            ]
          },
          "metadata": {
            "tags": [],
            "needs_background": "light"
          }
        }
      ]
    },
    {
      "cell_type": "code",
      "metadata": {
        "colab": {
          "base_uri": "https://localhost:8080/"
        },
        "id": "roAlpWFS01Jc",
        "outputId": "6ebfebbe-ab9b-4353-eed9-42f84cc0a3b9"
      },
      "source": [
        "sm.accuracy_score(predictedY, y['Target'])"
      ],
      "execution_count": null,
      "outputs": [
        {
          "output_type": "execute_result",
          "data": {
            "text/plain": [
              "0.24"
            ]
          },
          "metadata": {
            "tags": []
          },
          "execution_count": 60
        }
      ]
    },
    {
      "cell_type": "markdown",
      "metadata": {
        "id": "CNWJbK99PkUi"
      },
      "source": [
        "#TF-"
      ]
    },
    {
      "cell_type": "code",
      "metadata": {
        "colab": {
          "base_uri": "https://localhost:8080/"
        },
        "id": "PAOga8XZSn4B",
        "outputId": "3af720c1-6b3e-4d1f-9406-bdcda2cbc8e8"
      },
      "source": [
        "import nltk\n",
        "nltk.download('stopwords')\n",
        "nltk.download('punkt')"
      ],
      "execution_count": null,
      "outputs": [
        {
          "output_type": "stream",
          "text": [
            "[nltk_data] Downloading package stopwords to /root/nltk_data...\n",
            "[nltk_data]   Package stopwords is already up-to-date!\n",
            "[nltk_data] Downloading package punkt to /root/nltk_data...\n",
            "[nltk_data]   Package punkt is already up-to-date!\n"
          ],
          "name": "stdout"
        },
        {
          "output_type": "execute_result",
          "data": {
            "text/plain": [
              "True"
            ]
          },
          "metadata": {
            "tags": []
          },
          "execution_count": 96
        }
      ]
    },
    {
      "cell_type": "code",
      "metadata": {
        "id": "ZsAUWz9JPfWC"
      },
      "source": [
        "from nltk.corpus import stopwords\n",
        "from nltk.tokenize import word_tokenize"
      ],
      "execution_count": null,
      "outputs": []
    },
    {
      "cell_type": "code",
      "metadata": {
        "id": "XDNnczKMQQBs"
      },
      "source": [
        "import math\n",
        "import pandas as pd\n",
        "def computeTF(wordDict,bow):\n",
        " tfDict = {}\n",
        " bowCount = len(bow)\n",
        " for word, count in wordDict.items():\n",
        "  tfDict[word] = count / float (bowCount)\n",
        " return tfDict\n",
        "def computeIDF(docList):\n",
        " idfDict = {}\n",
        " N = len(docList)\n",
        " #counts the number of documents that contain a word w\n",
        " idfDict = dict.fromkeys(docList[0].keys(),0)\n",
        " for doc in docList:\n",
        "  for word,val in doc.items():\n",
        "    if val > 0:\n",
        "      idfDict[word] += 1\n",
        " #divide N by denominator above , take the log of that\n",
        " for word,val in idfDict.items():\n",
        "  idfDict[word] = math.log(N / float(val))\n",
        " return idfDict\n",
        "def computeTFIDF(tfBow,idfs):\n",
        " tfidf = {}\n",
        " for word,val in tfBow.items():\n",
        "  tfidf[word] = val * idfs[word]\n",
        " return tfidf\n",
        "def intersection(s1, s2) :\n",
        "\n",
        " # Find the intersection of the two sets\n",
        " intersect = s1 & s2 ;\n",
        "\n",
        " return intersect;\n",
        "\n",
        "\n",
        "# Function to return the Jaccard index of two sets\n",
        "def jaccard_index(s1, s2) :\n",
        "\n",
        " # Sizes of both the sets\n",
        " size_s1 = len(s1);\n",
        " size_s2 = len(s2);\n",
        "\n",
        " # Get the intersection set\n",
        " intersect = intersection(s1, s2);\n",
        "\n",
        " # Size of the intersection set\n",
        " size_in = len(intersect);\n",
        "\n",
        " # Calculate the Jaccard index\n",
        " # using the formula\n",
        " jaccard_in = size_in / (size_s1 + size_s2 - size_in);\n",
        "\n",
        " # Return the Jaccard index\n",
        " return jaccard_in;"
      ],
      "execution_count": null,
      "outputs": []
    },
    {
      "cell_type": "code",
      "metadata": {
        "id": "QJnp8R49QdcB"
      },
      "source": [
        "doc1 = \"Web mining can widely be seen as the application of adapted Data Mining techniques. \"\n",
        "doc2 = \"The method of Data Mining works with the design which is identified from the data that’s already accessible within the framework. \"\n",
        "doc3 = \"The method of Web Mining works with the design which is recognized with the assistance of different Web Data individually.\"\n",
        "doc4 = \"Data Mining is the process that attempts to discover pattern and hidden knowledge in large data sets in any system.\"\n",
        "doc5 = \"Web Mining is the process of data mining techniques to automatically discover and extract information from web documents.\"\n",
        "query = \"Web mining and Data Mining both extract information. \""
      ],
      "execution_count": null,
      "outputs": []
    },
    {
      "cell_type": "code",
      "metadata": {
        "id": "VN0IAFGoR0D7"
      },
      "source": [
        "# removing stop words\n",
        "stop_words = set(stopwords.words('english'))\n",
        "word_tokens = word_tokenize(doc1)\n",
        "filtered_sentence = [w for w in word_tokens if not w in stop_words]\n",
        "filtered_sentence = []\n",
        "for w in word_tokens:\n",
        " if w not in stop_words:\n",
        "  filtered_sentence.append(w)\n",
        "doc1 = filtered_sentence\n",
        "\n",
        "word_tokens = word_tokenize(doc2)\n",
        "filtered_sentence = [w for w in word_tokens if not w in stop_words]\n",
        "filtered_sentence = []\n",
        "for w in word_tokens:\n",
        " if w not in stop_words:\n",
        "  filtered_sentence.append(w)\n",
        "doc2 = filtered_sentence\n",
        "\n",
        "word_tokens = word_tokenize(doc3)\n",
        "filtered_sentence = [w for w in word_tokens if not w in stop_words]\n",
        "filtered_sentence = []\n",
        "for w in word_tokens:\n",
        " if w not in stop_words:\n",
        "  filtered_sentence.append(w)\n",
        "doc3 = filtered_sentence\n",
        "\n",
        "word_tokens = word_tokenize(doc4)\n",
        "filtered_sentence = [w for w in word_tokens if not w in stop_words]\n",
        "filtered_sentence = []\n",
        "for w in word_tokens:\n",
        " if w not in stop_words:\n",
        "  filtered_sentence.append(w)\n",
        "doc4 = filtered_sentence\n",
        "\n",
        "word_tokens = word_tokenize(doc5)\n",
        "filtered_sentence = [w for w in word_tokens if not w in stop_words]\n",
        "filtered_sentence = []\n",
        "for w in word_tokens:\n",
        " if w not in stop_words:\n",
        "  filtered_sentence.append(w)\n",
        "doc5 = filtered_sentence\n",
        "\n",
        "word_tokens = word_tokenize(query)\n",
        "filtered_sentence = [w for w in word_tokens if not w in stop_words]\n",
        "filtered_sentence = []\n",
        "for w in word_tokens:\n",
        " if w not in stop_words:\n",
        "  filtered_sentence.append(w)\n",
        "query = filtered_sentence\n"
      ],
      "execution_count": null,
      "outputs": []
    },
    {
      "cell_type": "code",
      "metadata": {
        "colab": {
          "base_uri": "https://localhost:8080/"
        },
        "id": "1GtPi0flT0DW",
        "outputId": "f8831b33-dd4e-4cdb-d36c-1d5512d20541"
      },
      "source": [
        "bow1 = doc1\n",
        "bow2 = doc2\n",
        "bow3 = doc3\n",
        "bow4 = doc4\n",
        "bow5 = doc5\n",
        "bowq = query\n",
        "\n",
        "wordSet = set(bowq)\n",
        "print(\"\\nSet of words:\\n\")\n",
        "print(wordSet)\n",
        "\n",
        "wordDict1 = dict.fromkeys(wordSet,0)\n",
        "wordDict2 = dict.fromkeys(wordSet,0)\n",
        "wordDict3 = dict.fromkeys(wordSet,0)\n",
        "wordDict4 = dict.fromkeys(wordSet,0)\n",
        "wordDict5 = dict.fromkeys(wordSet,0)\n",
        "wordDictq = dict.fromkeys(wordSet,0)\n",
        "for word in bowq:\n",
        " wordDict1[word] += 1\n",
        "for word in bowq:\n",
        " wordDict2[word] += 1\n",
        "for word in bowq:\n",
        " wordDict3[word] += 1\n",
        "for word in bowq:\n",
        " wordDict4[word] += 1\n",
        "for word in bowq:\n",
        " wordDict5[word] += 1\n",
        "for word in bowq:\n",
        " wordDictq[word] += 1\n",
        "print(\"\\nBag of words:\\n\")\n",
        "pd.DataFrame([wordDict1,wordDict2,wordDict3,wordDict4,wordDict5,wordDictq])\n",
        "print(pd.DataFrame([wordDict1,wordDict2,wordDict3,wordDict4,wordDict5,wordDictq]))\n",
        "tfBow1 = computeTF(wordDict1,bow1)\n",
        "tfBow2 = computeTF(wordDict2,bow2)\n",
        "tfBow3 = computeTF(wordDict3,bow3)\n",
        "tfBow4 = computeTF(wordDict4,bow4)\n",
        "tfBow5 = computeTF(wordDict5,bow5)\n",
        "tfBowq = computeTF(wordDictq,bowq)\n",
        "print(\"\\n******** TF ********\")\n",
        "print(\"\\nTF for Document 1: \\n\",tfBow1)\n",
        "print(\"\\nTF for Document 2: \\n\",tfBow2)\n",
        "print(\"\\nTF for Document 3: \\n\",tfBow3)\n",
        "print(\"\\nTF for Document 4: \\n\",tfBow4)\n",
        "print(\"\\nTF for Document 5: \\n\",tfBow5)\n",
        "print(\"\\nTF for Query: \\n\",tfBowq)"
      ],
      "execution_count": null,
      "outputs": [
        {
          "output_type": "stream",
          "text": [
            "\n",
            "Set of words:\n",
            "\n",
            "{'Data', 'extract', 'Mining', 'mining', 'information', 'Web', '.'}\n",
            "\n",
            "Bag of words:\n",
            "\n",
            "   Data  extract  Mining  mining  information  Web  .\n",
            "0     1        1       1       1            1    1  1\n",
            "1     1        1       1       1            1    1  1\n",
            "2     1        1       1       1            1    1  1\n",
            "3     1        1       1       1            1    1  1\n",
            "4     1        1       1       1            1    1  1\n",
            "5     1        1       1       1            1    1  1\n",
            "\n",
            "******** TF ********\n",
            "\n",
            "TF for Document 1: \n",
            " {'Data': 0.14285714285714285, 'extract': 0.14285714285714285, 'Mining': 0.14285714285714285, 'mining': 0.14285714285714285, 'information': 0.14285714285714285, 'Web': 0.14285714285714285, '.': 0.14285714285714285}\n",
            "\n",
            "TF for Document 2: \n",
            " {'Data': 0.14285714285714285, 'extract': 0.14285714285714285, 'Mining': 0.14285714285714285, 'mining': 0.14285714285714285, 'information': 0.14285714285714285, 'Web': 0.14285714285714285, '.': 0.14285714285714285}\n",
            "\n",
            "TF for Document 3: \n",
            " {'Data': 0.14285714285714285, 'extract': 0.14285714285714285, 'Mining': 0.14285714285714285, 'mining': 0.14285714285714285, 'information': 0.14285714285714285, 'Web': 0.14285714285714285, '.': 0.14285714285714285}\n",
            "\n",
            "TF for Document 4: \n",
            " {'Data': 0.14285714285714285, 'extract': 0.14285714285714285, 'Mining': 0.14285714285714285, 'mining': 0.14285714285714285, 'information': 0.14285714285714285, 'Web': 0.14285714285714285, '.': 0.14285714285714285}\n",
            "\n",
            "TF for Document 5: \n",
            " {'Data': 0.14285714285714285, 'extract': 0.14285714285714285, 'Mining': 0.14285714285714285, 'mining': 0.14285714285714285, 'information': 0.14285714285714285, 'Web': 0.14285714285714285, '.': 0.14285714285714285}\n",
            "\n",
            "TF for Query: \n",
            " {'Data': 0.14285714285714285, 'extract': 0.14285714285714285, 'Mining': 0.14285714285714285, 'mining': 0.14285714285714285, 'information': 0.14285714285714285, 'Web': 0.14285714285714285, '.': 0.14285714285714285}\n"
          ],
          "name": "stdout"
        }
      ]
    },
    {
      "cell_type": "code",
      "metadata": {
        "colab": {
          "base_uri": "https://localhost:8080/"
        },
        "id": "qCE7zPi9T-HY",
        "outputId": "f2a985cc-56e4-4f3b-f386-90c44e5e8ecd"
      },
      "source": [
        "idfs = computeIDF([wordDict1,wordDict2,wordDict3,wordDict4,wordDict5])\n",
        "print(\"\\n******** IDF'S ********\")\n",
        "print(\"\\nIDFs for all 5 documents: \\n\", idfs)\n",
        "tfidfBow1 = computeTFIDF(tfBow1,idfs)\n",
        "tfidfBow2 = computeTFIDF(tfBow2,idfs)\n",
        "tfidfBow3 = computeTFIDF(tfBow3,idfs)\n",
        "tfidfBow4 = computeTFIDF(tfBow4,idfs)\n",
        "tfidfBow5 = computeTFIDF(tfBow5,idfs)\n",
        "tfidfBowq = computeTFIDF(tfBowq,idfs)\n"
      ],
      "execution_count": null,
      "outputs": [
        {
          "output_type": "stream",
          "text": [
            "\n",
            "******** IDF'S ********\n",
            "\n",
            "IDFs for all 5 documents: \n",
            " {'Data': 0.0, 'extract': 0.0, 'Mining': 0.0, 'mining': 0.0, 'information': 0.0, 'Web': 0.0, '.': 0.0}\n"
          ],
          "name": "stdout"
        }
      ]
    },
    {
      "cell_type": "code",
      "metadata": {
        "colab": {
          "base_uri": "https://localhost:8080/"
        },
        "id": "WT_uhTJhUKHK",
        "outputId": "b5b75827-0d17-4dc3-802a-bcf04901f1f5"
      },
      "source": [
        "print(\"\\n******** TF*IDF'S ********\")\n",
        "print(\"\\nTF-IDF for all 5 documents: \\n\")\n",
        "print(pd.DataFrame([tfidfBow1,tfidfBow2,tfidfBow3,tfidfBow4,tfidfBow5,tfidfBowq]))"
      ],
      "execution_count": null,
      "outputs": [
        {
          "output_type": "stream",
          "text": [
            "\n",
            "******** TF*IDF'S ********\n",
            "\n",
            "TF-IDF for all 5 documents: \n",
            "\n",
            "   techniques      logs     Data  ...  concerns  embedded     pages\n",
            "0    0.024385  0.024385  0.00000  ...  0.000000  0.024385  0.006762\n",
            "1    0.000000  0.000000  0.00000  ...  0.036578  0.000000  0.005071\n",
            "2    0.000000  0.000000  0.00000  ...  0.000000  0.000000  0.011443\n",
            "3    0.000000  0.000000  0.00000  ...  0.000000  0.000000  0.010143\n",
            "4    0.000000  0.000000  0.13412  ...  0.000000  0.000000  0.000000\n",
            "5    0.000000  0.000000  0.00000  ...  0.000000  0.000000  0.000000\n",
            "\n",
            "[6 rows x 105 columns]\n"
          ],
          "name": "stdout"
        }
      ]
    },
    {
      "cell_type": "code",
      "metadata": {
        "colab": {
          "base_uri": "https://localhost:8080/"
        },
        "id": "esuZ37MfUQkY",
        "outputId": "79fb6650-40dc-490b-f2f6-17f416e00e2d"
      },
      "source": [
        "print(\"\\n********JACARD SIMILARITY ********\")\n",
        "js1 = jaccard_index(set(bow1),set(bowq));\n",
        "print(\"JS BETWEEN QUERY AND DOC1\",js1)\n",
        "js2 = jaccard_index(set(bow2),set(bowq));\n",
        "print(\"JS BETWEEN QUERY AND DOC2\",js2)\n",
        "js3 = jaccard_index(set(bow3),set(bowq));\n",
        "print(\"JS BETWEEN QUERY AND DOC3\",js3)\n",
        "js4 = jaccard_index(set(bow4),set(bowq));\n",
        "print(\"JS BETWEEN QUERY AND DOC4\",js4)\n",
        "js5 = jaccard_index(set(bow5),set(bowq));\n",
        "print(\"JS BETWEEN QUERY AND DOC5\",js5)"
      ],
      "execution_count": null,
      "outputs": [
        {
          "output_type": "stream",
          "text": [
            "\n",
            "********JACARD SIMILARITY ********\n",
            "JS BETWEEN QUERY AND DOC1 0.06521739130434782\n",
            "JS BETWEEN QUERY AND DOC2 0.0967741935483871\n",
            "JS BETWEEN QUERY AND DOC3 0.10344827586206896\n",
            "JS BETWEEN QUERY AND DOC4 0.2\n",
            "JS BETWEEN QUERY AND DOC5 0.06666666666666667\n"
          ],
          "name": "stdout"
        }
      ]
    }
  ]
}