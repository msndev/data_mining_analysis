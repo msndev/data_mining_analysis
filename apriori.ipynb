{
  "nbformat": 4,
  "nbformat_minor": 0,
  "metadata": {
    "colab": {
      "provenance": []
    },
    "kernelspec": {
      "name": "python3",
      "display_name": "Python 3"
    },
    "language_info": {
      "name": "python"
    }
  },
  "cells": [
    {
      "cell_type": "code",
      "metadata": {
        "colab": {
          "base_uri": "https://localhost:8080/"
        },
        "id": "YJ4NwHuHHTnh",
        "outputId": "834b0419-b9c4-4793-ab9a-6b687dc80be8"
      },
      "source": [
        "pip install apyori"
      ],
      "execution_count": null,
      "outputs": [
        {
          "output_type": "stream",
          "text": [
            "Collecting apyori\n",
            "  Downloading https://files.pythonhosted.org/packages/5e/62/5ffde5c473ea4b033490617ec5caa80d59804875ad3c3c57c0976533a21a/apyori-1.1.2.tar.gz\n",
            "Building wheels for collected packages: apyori\n",
            "  Building wheel for apyori (setup.py) ... \u001b[?25l\u001b[?25hdone\n",
            "  Created wheel for apyori: filename=apyori-1.1.2-cp37-none-any.whl size=5975 sha256=5d0c167c2f0fd3f79577d61759ed0887245eded1aabb73bbc164d60b0fa84a27\n",
            "  Stored in directory: /root/.cache/pip/wheels/5d/92/bb/474bbadbc8c0062b9eb168f69982a0443263f8ab1711a8cad0\n",
            "Successfully built apyori\n",
            "Installing collected packages: apyori\n",
            "Successfully installed apyori-1.1.2\n"
          ],
          "name": "stdout"
        }
      ]
    },
    {
      "cell_type": "code",
      "metadata": {
        "id": "6iH88uc-Hg-3"
      },
      "source": [
        "import numpy as np\n",
        "import matplotlib.pyplot as plt\n",
        "import pandas as pd\n",
        "from apyori import apriori"
      ],
      "execution_count": null,
      "outputs": []
    },
    {
      "cell_type": "code",
      "metadata": {
        "id": "iVmvUnnIHjOQ"
      },
      "source": [
        "data = pd.read_csv('/content/Book1.csv', header=None)"
      ],
      "execution_count": null,
      "outputs": []
    },
    {
      "cell_type": "code",
      "metadata": {
        "colab": {
          "base_uri": "https://localhost:8080/",
          "height": 311
        },
        "id": "Yqgyb_jJHpJT",
        "outputId": "995ed8fd-dfb6-41b0-c5ca-295bd9d5ed03"
      },
      "source": [
        "data.head(9)"
      ],
      "execution_count": null,
      "outputs": [
        {
          "output_type": "execute_result",
          "data": {
            "text/html": [
              "<div>\n",
              "<style scoped>\n",
              "    .dataframe tbody tr th:only-of-type {\n",
              "        vertical-align: middle;\n",
              "    }\n",
              "\n",
              "    .dataframe tbody tr th {\n",
              "        vertical-align: top;\n",
              "    }\n",
              "\n",
              "    .dataframe thead th {\n",
              "        text-align: right;\n",
              "    }\n",
              "</style>\n",
              "<table border=\"1\" class=\"dataframe\">\n",
              "  <thead>\n",
              "    <tr style=\"text-align: right;\">\n",
              "      <th></th>\n",
              "      <th>0</th>\n",
              "      <th>1</th>\n",
              "      <th>2</th>\n",
              "      <th>3</th>\n",
              "      <th>4</th>\n",
              "    </tr>\n",
              "  </thead>\n",
              "  <tbody>\n",
              "    <tr>\n",
              "      <th>0</th>\n",
              "      <td>M1</td>\n",
              "      <td>M2</td>\n",
              "      <td>NaN</td>\n",
              "      <td>NaN</td>\n",
              "      <td>M5</td>\n",
              "    </tr>\n",
              "    <tr>\n",
              "      <th>1</th>\n",
              "      <td>NaN</td>\n",
              "      <td>M2</td>\n",
              "      <td>NaN</td>\n",
              "      <td>M4</td>\n",
              "      <td>NaN</td>\n",
              "    </tr>\n",
              "    <tr>\n",
              "      <th>2</th>\n",
              "      <td>NaN</td>\n",
              "      <td>M2</td>\n",
              "      <td>M3</td>\n",
              "      <td>NaN</td>\n",
              "      <td>NaN</td>\n",
              "    </tr>\n",
              "    <tr>\n",
              "      <th>3</th>\n",
              "      <td>M1</td>\n",
              "      <td>M2</td>\n",
              "      <td>NaN</td>\n",
              "      <td>M4</td>\n",
              "      <td>NaN</td>\n",
              "    </tr>\n",
              "    <tr>\n",
              "      <th>4</th>\n",
              "      <td>M1</td>\n",
              "      <td>NaN</td>\n",
              "      <td>M3</td>\n",
              "      <td>NaN</td>\n",
              "      <td>NaN</td>\n",
              "    </tr>\n",
              "    <tr>\n",
              "      <th>5</th>\n",
              "      <td>NaN</td>\n",
              "      <td>M2</td>\n",
              "      <td>M3</td>\n",
              "      <td>NaN</td>\n",
              "      <td>NaN</td>\n",
              "    </tr>\n",
              "    <tr>\n",
              "      <th>6</th>\n",
              "      <td>M1</td>\n",
              "      <td>NaN</td>\n",
              "      <td>NaN</td>\n",
              "      <td>NaN</td>\n",
              "      <td>NaN</td>\n",
              "    </tr>\n",
              "    <tr>\n",
              "      <th>7</th>\n",
              "      <td>M1</td>\n",
              "      <td>M2</td>\n",
              "      <td>M3</td>\n",
              "      <td>NaN</td>\n",
              "      <td>M5</td>\n",
              "    </tr>\n",
              "    <tr>\n",
              "      <th>8</th>\n",
              "      <td>M1</td>\n",
              "      <td>M2</td>\n",
              "      <td>NaN</td>\n",
              "      <td>NaN</td>\n",
              "      <td>NaN</td>\n",
              "    </tr>\n",
              "  </tbody>\n",
              "</table>\n",
              "</div>"
            ],
            "text/plain": [
              "     0    1    2    3    4\n",
              "0   M1   M2  NaN  NaN   M5\n",
              "1  NaN   M2  NaN   M4  NaN\n",
              "2  NaN   M2   M3  NaN  NaN\n",
              "3   M1   M2  NaN   M4  NaN\n",
              "4   M1  NaN   M3  NaN  NaN\n",
              "5  NaN   M2   M3  NaN  NaN\n",
              "6   M1  NaN  NaN  NaN  NaN\n",
              "7   M1   M2   M3  NaN   M5\n",
              "8   M1   M2  NaN  NaN  NaN"
            ]
          },
          "metadata": {
            "tags": []
          },
          "execution_count": 4
        }
      ]
    },
    {
      "cell_type": "code",
      "metadata": {
        "id": "-rK8g3NYHrWl"
      },
      "source": [
        "records = []\n",
        "for i in range(0, 9):\n",
        "    records.append([str(data.values[i,j]) for j in range(0, 5)])"
      ],
      "execution_count": null,
      "outputs": []
    },
    {
      "cell_type": "code",
      "metadata": {
        "id": "CFhDGWaZHxdX"
      },
      "source": [
        "association_rules = apriori(records, min_support=4/9, min_confidence=5/9)\n",
        "results = list(association_rules)"
      ],
      "execution_count": null,
      "outputs": []
    },
    {
      "cell_type": "code",
      "metadata": {
        "colab": {
          "base_uri": "https://localhost:8080/"
        },
        "id": "0XlkrJlsH4N7",
        "outputId": "12bb2144-c8bb-478e-f27e-823cd15ae671"
      },
      "source": [
        "for item in results:\n",
        "   if('nan' not in item[0]):\n",
        "    pair = item[0]\n",
        "    items = [x for x in pair]\n",
        "    print(\"Rule: \")\n",
        "    print(items)\n",
        "\n",
        "    print(\"Support: \" + str(item[1]))\n",
        "\n",
        "    print(\"Confidence: \" + str(item[2][0][2]))\n",
        "    print(\"Lift: \" + str(item[2][0][3]))\n",
        "    print(\"=====================================\")"
      ],
      "execution_count": null,
      "outputs": [
        {
          "output_type": "stream",
          "text": [
            "Rule: \n",
            "['M1']\n",
            "Support: 0.6666666666666666\n",
            "Confidence: 0.6666666666666666\n",
            "Lift: 1.0\n",
            "=====================================\n",
            "Rule: \n",
            "['M2']\n",
            "Support: 0.7777777777777778\n",
            "Confidence: 0.7777777777777778\n",
            "Lift: 1.0\n",
            "=====================================\n",
            "Rule: \n",
            "['M2', 'M1']\n",
            "Support: 0.4444444444444444\n",
            "Confidence: 0.6666666666666666\n",
            "Lift: 0.8571428571428571\n",
            "=====================================\n"
          ],
          "name": "stdout"
        }
      ]
    }
  ]
}